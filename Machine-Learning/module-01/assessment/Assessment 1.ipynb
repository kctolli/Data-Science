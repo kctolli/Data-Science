{
 "cells": [
  {
   "cell_type": "markdown",
   "metadata": {
    "id": "E5dpj74Hya2q"
   },
   "source": [
    "# Introduction\n",
    "This assignment will test how well you're able to perform various data science-related tasks using Python, pandas, and seaborn, as well as how well you can interpret statistical and probabilistic results.\n",
    "\n",
    "Each Problem Group below will center around a particular dataset that you have worked with before.\n",
    "\n",
    "To ensure you receive full credit for a question, make sure you demonstrate the appropriate pandas, seaborn, or other commands as requested in the provided code blocks. \n",
    "\n",
    "You may find that some questions require multiple steps to fully answer. Others require some mental arithmetic in addition to pandas commands. Use your best judgment.\n",
    "\n",
    "## Submission\n",
    "Each problem group asks a series of questions. This assignment consists of two submissions:\n",
    "\n",
    "1. After completing the questions below, open the Module 01 Assessment Quiz in Canvas and enter your answers to these questions there.\n",
    "\n",
    "2. After completing and submitting the quiz, save this Colab notebook as a GitHub Gist (You'll need to create a GitHub account for this), by selecting `Save a copy as a GitHub Gist` from the `File` menu above.\n",
    "\n",
    "    In Canvas, open the Module 01 Assessment GitHub Gist assignment and paste the GitHub Gist URL for this notebook. Then submit that assignment."
   ]
  },
  {
   "cell_type": "code",
   "execution_count": 33,
   "metadata": {
    "executionInfo": {
     "elapsed": 1804,
     "status": "ok",
     "timestamp": 1601324347650,
     "user": {
      "displayName": "K. Christian Tolliver",
      "photoUrl": "https://lh3.googleusercontent.com/a-/AOh14Gjq42kM3jz6naaL9V3opEC8k6sZOisoPTKOjeqOBw=s64",
      "userId": "05068722563028068409"
     },
     "user_tz": 360
    },
    "id": "Le24OWIQ7gN8"
   },
   "outputs": [],
   "source": [
    "import pandas as pd\n",
    "import seaborn as sns"
   ]
  },
  {
   "cell_type": "markdown",
   "metadata": {
    "id": "WgYhh-W3xk4e"
   },
   "source": [
    "## Problem Group 1\n",
    "\n",
    "For the questions in this group, you'll work with the Netflix Movies Dataset found at this url: [https://raw.githubusercontent.com/byui-cse/cse450-course/master/data/netflix_titles.csv](https://raw.githubusercontent.com/byui-cse/cse450-course/master/data/netflix_titles.csv)\n"
   ]
  },
  {
   "cell_type": "code",
   "execution_count": 34,
   "metadata": {
    "colab": {
     "base_uri": "https://localhost:8080/",
     "height": 306
    },
    "executionInfo": {
     "elapsed": 3141,
     "status": "ok",
     "timestamp": 1601324349052,
     "user": {
      "displayName": "K. Christian Tolliver",
      "photoUrl": "https://lh3.googleusercontent.com/a-/AOh14Gjq42kM3jz6naaL9V3opEC8k6sZOisoPTKOjeqOBw=s64",
      "userId": "05068722563028068409"
     },
     "user_tz": 360
    },
    "id": "f9Kh9hNd7Z2U",
    "outputId": "32003e11-ce2b-45ef-d186-cad20422ea43"
   },
   "outputs": [
    {
     "data": {
      "text/html": [
       "<div>\n",
       "<style scoped>\n",
       "    .dataframe tbody tr th:only-of-type {\n",
       "        vertical-align: middle;\n",
       "    }\n",
       "\n",
       "    .dataframe tbody tr th {\n",
       "        vertical-align: top;\n",
       "    }\n",
       "\n",
       "    .dataframe thead th {\n",
       "        text-align: right;\n",
       "    }\n",
       "</style>\n",
       "<table border=\"1\" class=\"dataframe\">\n",
       "  <thead>\n",
       "    <tr style=\"text-align: right;\">\n",
       "      <th></th>\n",
       "      <th>show_id</th>\n",
       "      <th>type</th>\n",
       "      <th>title</th>\n",
       "      <th>director</th>\n",
       "      <th>cast</th>\n",
       "      <th>country</th>\n",
       "      <th>date_added</th>\n",
       "      <th>release_year</th>\n",
       "      <th>rating</th>\n",
       "      <th>duration</th>\n",
       "      <th>listed_in</th>\n",
       "      <th>description</th>\n",
       "    </tr>\n",
       "  </thead>\n",
       "  <tbody>\n",
       "    <tr>\n",
       "      <th>0</th>\n",
       "      <td>81145628</td>\n",
       "      <td>Movie</td>\n",
       "      <td>Norm of the North: King Sized Adventure</td>\n",
       "      <td>Richard Finn, Tim Maltby</td>\n",
       "      <td>Alan Marriott, Andrew Toth, Brian Dobson, Cole...</td>\n",
       "      <td>United States, India, South Korea, China</td>\n",
       "      <td>September 9, 2019</td>\n",
       "      <td>2019</td>\n",
       "      <td>TV-PG</td>\n",
       "      <td>90 min</td>\n",
       "      <td>Children &amp; Family Movies, Comedies</td>\n",
       "      <td>Before planning an awesome wedding for his gra...</td>\n",
       "    </tr>\n",
       "    <tr>\n",
       "      <th>1</th>\n",
       "      <td>80117401</td>\n",
       "      <td>Movie</td>\n",
       "      <td>Jandino: Whatever it Takes</td>\n",
       "      <td>NaN</td>\n",
       "      <td>Jandino Asporaat</td>\n",
       "      <td>United Kingdom</td>\n",
       "      <td>September 9, 2016</td>\n",
       "      <td>2016</td>\n",
       "      <td>TV-MA</td>\n",
       "      <td>94 min</td>\n",
       "      <td>Stand-Up Comedy</td>\n",
       "      <td>Jandino Asporaat riffs on the challenges of ra...</td>\n",
       "    </tr>\n",
       "    <tr>\n",
       "      <th>2</th>\n",
       "      <td>70234439</td>\n",
       "      <td>TV Show</td>\n",
       "      <td>Transformers Prime</td>\n",
       "      <td>NaN</td>\n",
       "      <td>Peter Cullen, Sumalee Montano, Frank Welker, J...</td>\n",
       "      <td>United States</td>\n",
       "      <td>September 8, 2018</td>\n",
       "      <td>2013</td>\n",
       "      <td>TV-Y7-FV</td>\n",
       "      <td>1 Season</td>\n",
       "      <td>Kids' TV</td>\n",
       "      <td>With the help of three human allies, the Autob...</td>\n",
       "    </tr>\n",
       "    <tr>\n",
       "      <th>3</th>\n",
       "      <td>80058654</td>\n",
       "      <td>TV Show</td>\n",
       "      <td>Transformers: Robots in Disguise</td>\n",
       "      <td>NaN</td>\n",
       "      <td>Will Friedle, Darren Criss, Constance Zimmer, ...</td>\n",
       "      <td>United States</td>\n",
       "      <td>September 8, 2018</td>\n",
       "      <td>2016</td>\n",
       "      <td>TV-Y7</td>\n",
       "      <td>1 Season</td>\n",
       "      <td>Kids' TV</td>\n",
       "      <td>When a prison ship crash unleashes hundreds of...</td>\n",
       "    </tr>\n",
       "    <tr>\n",
       "      <th>4</th>\n",
       "      <td>80125979</td>\n",
       "      <td>Movie</td>\n",
       "      <td>#realityhigh</td>\n",
       "      <td>Fernando Lebrija</td>\n",
       "      <td>Nesta Cooper, Kate Walsh, John Michael Higgins...</td>\n",
       "      <td>United States</td>\n",
       "      <td>September 8, 2017</td>\n",
       "      <td>2017</td>\n",
       "      <td>TV-14</td>\n",
       "      <td>99 min</td>\n",
       "      <td>Comedies</td>\n",
       "      <td>When nerdy high schooler Dani finally attracts...</td>\n",
       "    </tr>\n",
       "  </tbody>\n",
       "</table>\n",
       "</div>"
      ],
      "text/plain": [
       "    show_id  ...                                        description\n",
       "0  81145628  ...  Before planning an awesome wedding for his gra...\n",
       "1  80117401  ...  Jandino Asporaat riffs on the challenges of ra...\n",
       "2  70234439  ...  With the help of three human allies, the Autob...\n",
       "3  80058654  ...  When a prison ship crash unleashes hundreds of...\n",
       "4  80125979  ...  When nerdy high schooler Dani finally attracts...\n",
       "\n",
       "[5 rows x 12 columns]"
      ]
     },
     "execution_count": 34,
     "metadata": {
      "tags": []
     },
     "output_type": "execute_result"
    }
   ],
   "source": [
    "netflix = pd.read_csv(\"https://raw.githubusercontent.com/byui-cse/cse450-course/master/data/netflix_titles.csv\")\n",
    "netflix.head()"
   ]
  },
  {
   "cell_type": "markdown",
   "metadata": {
    "id": "kulUs9K7xxB3"
   },
   "source": [
    "### Question 1\n",
    "Load the dataset into a Pandas data frame and determine what data type is used to store the `release_year` feature."
   ]
  },
  {
   "cell_type": "code",
   "execution_count": 35,
   "metadata": {
    "colab": {
     "base_uri": "https://localhost:8080/",
     "height": 238
    },
    "executionInfo": {
     "elapsed": 3042,
     "status": "ok",
     "timestamp": 1601324349055,
     "user": {
      "displayName": "K. Christian Tolliver",
      "photoUrl": "https://lh3.googleusercontent.com/a-/AOh14Gjq42kM3jz6naaL9V3opEC8k6sZOisoPTKOjeqOBw=s64",
      "userId": "05068722563028068409"
     },
     "user_tz": 360
    },
    "id": "ecSfSVrsxjx5",
    "outputId": "66bec424-52bc-4b3b-80c1-20e303e6e9ca"
   },
   "outputs": [
    {
     "data": {
      "text/plain": [
       "show_id          int64\n",
       "type            object\n",
       "title           object\n",
       "director        object\n",
       "cast            object\n",
       "country         object\n",
       "date_added      object\n",
       "release_year     int64\n",
       "rating          object\n",
       "duration        object\n",
       "listed_in       object\n",
       "description     object\n",
       "dtype: object"
      ]
     },
     "execution_count": 35,
     "metadata": {
      "tags": []
     },
     "output_type": "execute_result"
    }
   ],
   "source": [
    "netflix.dtypes"
   ]
  },
  {
   "cell_type": "markdown",
   "metadata": {
    "id": "ivpHTGpczpyM"
   },
   "source": [
    "### Question 2\n",
    "Filter your dataset so it contains only `TV Shows`. How many of those TV Shows were rated `TV-Y7`?"
   ]
  },
  {
   "cell_type": "code",
   "execution_count": 36,
   "metadata": {
    "colab": {
     "base_uri": "https://localhost:8080/",
     "height": 606
    },
    "executionInfo": {
     "elapsed": 2976,
     "status": "ok",
     "timestamp": 1601324349058,
     "user": {
      "displayName": "K. Christian Tolliver",
      "photoUrl": "https://lh3.googleusercontent.com/a-/AOh14Gjq42kM3jz6naaL9V3opEC8k6sZOisoPTKOjeqOBw=s64",
      "userId": "05068722563028068409"
     },
     "user_tz": 360
    },
    "id": "Zf6QABfXx5Xh",
    "outputId": "5eba7d96-a4db-4eb0-c5f1-449b04623367"
   },
   "outputs": [
    {
     "data": {
      "text/html": [
       "<div>\n",
       "<style scoped>\n",
       "    .dataframe tbody tr th:only-of-type {\n",
       "        vertical-align: middle;\n",
       "    }\n",
       "\n",
       "    .dataframe tbody tr th {\n",
       "        vertical-align: top;\n",
       "    }\n",
       "\n",
       "    .dataframe thead th {\n",
       "        text-align: right;\n",
       "    }\n",
       "</style>\n",
       "<table border=\"1\" class=\"dataframe\">\n",
       "  <thead>\n",
       "    <tr style=\"text-align: right;\">\n",
       "      <th></th>\n",
       "      <th>show_id</th>\n",
       "      <th>type</th>\n",
       "      <th>title</th>\n",
       "      <th>director</th>\n",
       "      <th>cast</th>\n",
       "      <th>country</th>\n",
       "      <th>date_added</th>\n",
       "      <th>release_year</th>\n",
       "      <th>rating</th>\n",
       "      <th>duration</th>\n",
       "      <th>listed_in</th>\n",
       "      <th>description</th>\n",
       "    </tr>\n",
       "  </thead>\n",
       "  <tbody>\n",
       "    <tr>\n",
       "      <th>2</th>\n",
       "      <td>70234439</td>\n",
       "      <td>TV Show</td>\n",
       "      <td>Transformers Prime</td>\n",
       "      <td>NaN</td>\n",
       "      <td>Peter Cullen, Sumalee Montano, Frank Welker, J...</td>\n",
       "      <td>United States</td>\n",
       "      <td>September 8, 2018</td>\n",
       "      <td>2013</td>\n",
       "      <td>TV-Y7-FV</td>\n",
       "      <td>1 Season</td>\n",
       "      <td>Kids' TV</td>\n",
       "      <td>With the help of three human allies, the Autob...</td>\n",
       "    </tr>\n",
       "    <tr>\n",
       "      <th>3</th>\n",
       "      <td>80058654</td>\n",
       "      <td>TV Show</td>\n",
       "      <td>Transformers: Robots in Disguise</td>\n",
       "      <td>NaN</td>\n",
       "      <td>Will Friedle, Darren Criss, Constance Zimmer, ...</td>\n",
       "      <td>United States</td>\n",
       "      <td>September 8, 2018</td>\n",
       "      <td>2016</td>\n",
       "      <td>TV-Y7</td>\n",
       "      <td>1 Season</td>\n",
       "      <td>Kids' TV</td>\n",
       "      <td>When a prison ship crash unleashes hundreds of...</td>\n",
       "    </tr>\n",
       "    <tr>\n",
       "      <th>5</th>\n",
       "      <td>80163890</td>\n",
       "      <td>TV Show</td>\n",
       "      <td>Apaches</td>\n",
       "      <td>NaN</td>\n",
       "      <td>Alberto Ammann, Eloy Azorín, Verónica Echegui,...</td>\n",
       "      <td>Spain</td>\n",
       "      <td>September 8, 2017</td>\n",
       "      <td>2016</td>\n",
       "      <td>TV-MA</td>\n",
       "      <td>1 Season</td>\n",
       "      <td>Crime TV Shows, International TV Shows, Spanis...</td>\n",
       "      <td>A young journalist is forced into a life of cr...</td>\n",
       "    </tr>\n",
       "    <tr>\n",
       "      <th>8</th>\n",
       "      <td>80117902</td>\n",
       "      <td>TV Show</td>\n",
       "      <td>Fire Chasers</td>\n",
       "      <td>NaN</td>\n",
       "      <td>NaN</td>\n",
       "      <td>United States</td>\n",
       "      <td>September 8, 2017</td>\n",
       "      <td>2017</td>\n",
       "      <td>TV-MA</td>\n",
       "      <td>1 Season</td>\n",
       "      <td>Docuseries, Science &amp; Nature TV</td>\n",
       "      <td>As California's 2016 fire season rages, brave ...</td>\n",
       "    </tr>\n",
       "    <tr>\n",
       "      <th>26</th>\n",
       "      <td>80244601</td>\n",
       "      <td>TV Show</td>\n",
       "      <td>Castle of Stars</td>\n",
       "      <td>NaN</td>\n",
       "      <td>Chaiyapol Pupart, Jintanutda Lummakanon, Worra...</td>\n",
       "      <td>NaN</td>\n",
       "      <td>September 7, 2018</td>\n",
       "      <td>2015</td>\n",
       "      <td>TV-14</td>\n",
       "      <td>1 Season</td>\n",
       "      <td>International TV Shows, Romantic TV Shows, TV ...</td>\n",
       "      <td>As four couples with different lifestyles go t...</td>\n",
       "    </tr>\n",
       "    <tr>\n",
       "      <th>...</th>\n",
       "      <td>...</td>\n",
       "      <td>...</td>\n",
       "      <td>...</td>\n",
       "      <td>...</td>\n",
       "      <td>...</td>\n",
       "      <td>...</td>\n",
       "      <td>...</td>\n",
       "      <td>...</td>\n",
       "      <td>...</td>\n",
       "      <td>...</td>\n",
       "      <td>...</td>\n",
       "      <td>...</td>\n",
       "    </tr>\n",
       "    <tr>\n",
       "      <th>6228</th>\n",
       "      <td>80159925</td>\n",
       "      <td>TV Show</td>\n",
       "      <td>Kikoriki</td>\n",
       "      <td>NaN</td>\n",
       "      <td>Igor Dmitriev</td>\n",
       "      <td>NaN</td>\n",
       "      <td>NaN</td>\n",
       "      <td>2010</td>\n",
       "      <td>TV-Y</td>\n",
       "      <td>2 Seasons</td>\n",
       "      <td>Kids' TV</td>\n",
       "      <td>A wacky rabbit and his gang of animal pals hav...</td>\n",
       "    </tr>\n",
       "    <tr>\n",
       "      <th>6229</th>\n",
       "      <td>80000063</td>\n",
       "      <td>TV Show</td>\n",
       "      <td>Red vs. Blue</td>\n",
       "      <td>NaN</td>\n",
       "      <td>Burnie Burns, Jason Saldaña, Gustavo Sorola, G...</td>\n",
       "      <td>United States</td>\n",
       "      <td>NaN</td>\n",
       "      <td>2015</td>\n",
       "      <td>NR</td>\n",
       "      <td>13 Seasons</td>\n",
       "      <td>TV Action &amp; Adventure, TV Comedies, TV Sci-Fi ...</td>\n",
       "      <td>This parody of first-person shooter games, mil...</td>\n",
       "    </tr>\n",
       "    <tr>\n",
       "      <th>6230</th>\n",
       "      <td>70286564</td>\n",
       "      <td>TV Show</td>\n",
       "      <td>Maron</td>\n",
       "      <td>NaN</td>\n",
       "      <td>Marc Maron, Judd Hirsch, Josh Brener, Nora Zeh...</td>\n",
       "      <td>United States</td>\n",
       "      <td>NaN</td>\n",
       "      <td>2016</td>\n",
       "      <td>TV-MA</td>\n",
       "      <td>4 Seasons</td>\n",
       "      <td>TV Comedies</td>\n",
       "      <td>Marc Maron stars as Marc Maron, who interviews...</td>\n",
       "    </tr>\n",
       "    <tr>\n",
       "      <th>6232</th>\n",
       "      <td>70281022</td>\n",
       "      <td>TV Show</td>\n",
       "      <td>A Young Doctor's Notebook and Other Stories</td>\n",
       "      <td>NaN</td>\n",
       "      <td>Daniel Radcliffe, Jon Hamm, Adam Godley, Chris...</td>\n",
       "      <td>United Kingdom</td>\n",
       "      <td>NaN</td>\n",
       "      <td>2013</td>\n",
       "      <td>TV-MA</td>\n",
       "      <td>2 Seasons</td>\n",
       "      <td>British TV Shows, TV Comedies, TV Dramas</td>\n",
       "      <td>Set during the Russian Revolution, this comic ...</td>\n",
       "    </tr>\n",
       "    <tr>\n",
       "      <th>6233</th>\n",
       "      <td>70153404</td>\n",
       "      <td>TV Show</td>\n",
       "      <td>Friends</td>\n",
       "      <td>NaN</td>\n",
       "      <td>Jennifer Aniston, Courteney Cox, Lisa Kudrow, ...</td>\n",
       "      <td>United States</td>\n",
       "      <td>NaN</td>\n",
       "      <td>2003</td>\n",
       "      <td>TV-14</td>\n",
       "      <td>10 Seasons</td>\n",
       "      <td>Classic &amp; Cult TV, TV Comedies</td>\n",
       "      <td>This hit sitcom follows the merry misadventure...</td>\n",
       "    </tr>\n",
       "  </tbody>\n",
       "</table>\n",
       "<p>1969 rows × 12 columns</p>\n",
       "</div>"
      ],
      "text/plain": [
       "       show_id  ...                                        description\n",
       "2     70234439  ...  With the help of three human allies, the Autob...\n",
       "3     80058654  ...  When a prison ship crash unleashes hundreds of...\n",
       "5     80163890  ...  A young journalist is forced into a life of cr...\n",
       "8     80117902  ...  As California's 2016 fire season rages, brave ...\n",
       "26    80244601  ...  As four couples with different lifestyles go t...\n",
       "...        ...  ...                                                ...\n",
       "6228  80159925  ...  A wacky rabbit and his gang of animal pals hav...\n",
       "6229  80000063  ...  This parody of first-person shooter games, mil...\n",
       "6230  70286564  ...  Marc Maron stars as Marc Maron, who interviews...\n",
       "6232  70281022  ...  Set during the Russian Revolution, this comic ...\n",
       "6233  70153404  ...  This hit sitcom follows the merry misadventure...\n",
       "\n",
       "[1969 rows x 12 columns]"
      ]
     },
     "execution_count": 36,
     "metadata": {
      "tags": []
     },
     "output_type": "execute_result"
    }
   ],
   "source": [
    "TV_show = netflix[netflix[\"type\"] == \"TV Show\"]\n",
    "TV_show"
   ]
  },
  {
   "cell_type": "code",
   "execution_count": 37,
   "metadata": {
    "colab": {
     "base_uri": "https://localhost:8080/",
     "height": 606
    },
    "executionInfo": {
     "elapsed": 2907,
     "status": "ok",
     "timestamp": 1601324349059,
     "user": {
      "displayName": "K. Christian Tolliver",
      "photoUrl": "https://lh3.googleusercontent.com/a-/AOh14Gjq42kM3jz6naaL9V3opEC8k6sZOisoPTKOjeqOBw=s64",
      "userId": "05068722563028068409"
     },
     "user_tz": 360
    },
    "id": "slkxzFL-2wNV",
    "outputId": "f6c2dd18-6982-446a-c61f-2b7d8ea470fa"
   },
   "outputs": [
    {
     "data": {
      "text/html": [
       "<div>\n",
       "<style scoped>\n",
       "    .dataframe tbody tr th:only-of-type {\n",
       "        vertical-align: middle;\n",
       "    }\n",
       "\n",
       "    .dataframe tbody tr th {\n",
       "        vertical-align: top;\n",
       "    }\n",
       "\n",
       "    .dataframe thead th {\n",
       "        text-align: right;\n",
       "    }\n",
       "</style>\n",
       "<table border=\"1\" class=\"dataframe\">\n",
       "  <thead>\n",
       "    <tr style=\"text-align: right;\">\n",
       "      <th></th>\n",
       "      <th>show_id</th>\n",
       "      <th>type</th>\n",
       "      <th>title</th>\n",
       "      <th>director</th>\n",
       "      <th>cast</th>\n",
       "      <th>country</th>\n",
       "      <th>date_added</th>\n",
       "      <th>release_year</th>\n",
       "      <th>rating</th>\n",
       "      <th>duration</th>\n",
       "      <th>listed_in</th>\n",
       "      <th>description</th>\n",
       "    </tr>\n",
       "  </thead>\n",
       "  <tbody>\n",
       "    <tr>\n",
       "      <th>3</th>\n",
       "      <td>80058654</td>\n",
       "      <td>TV Show</td>\n",
       "      <td>Transformers: Robots in Disguise</td>\n",
       "      <td>NaN</td>\n",
       "      <td>Will Friedle, Darren Criss, Constance Zimmer, ...</td>\n",
       "      <td>United States</td>\n",
       "      <td>September 8, 2018</td>\n",
       "      <td>2016</td>\n",
       "      <td>TV-Y7</td>\n",
       "      <td>1 Season</td>\n",
       "      <td>Kids' TV</td>\n",
       "      <td>When a prison ship crash unleashes hundreds of...</td>\n",
       "    </tr>\n",
       "    <tr>\n",
       "      <th>34</th>\n",
       "      <td>80221550</td>\n",
       "      <td>TV Show</td>\n",
       "      <td>Archibald's Next Big Thing</td>\n",
       "      <td>NaN</td>\n",
       "      <td>Tony Hale, Rosamund Pike, Jordan Fisher, Chels...</td>\n",
       "      <td>NaN</td>\n",
       "      <td>September 6, 2019</td>\n",
       "      <td>2019</td>\n",
       "      <td>TV-Y7</td>\n",
       "      <td>1 Season</td>\n",
       "      <td>Kids' TV, TV Comedies</td>\n",
       "      <td>Happy-go-lucky chicken Archibald may not remem...</td>\n",
       "    </tr>\n",
       "    <tr>\n",
       "      <th>64</th>\n",
       "      <td>80239337</td>\n",
       "      <td>TV Show</td>\n",
       "      <td>Ben 10</td>\n",
       "      <td>NaN</td>\n",
       "      <td>Tara Strong, Montse Hernandez, David Kaye, Rog...</td>\n",
       "      <td>United States</td>\n",
       "      <td>September 30, 2018</td>\n",
       "      <td>2016</td>\n",
       "      <td>TV-Y7</td>\n",
       "      <td>1 Season</td>\n",
       "      <td>Kids' TV</td>\n",
       "      <td>Ben can transform into ten types of aliens. He...</td>\n",
       "    </tr>\n",
       "    <tr>\n",
       "      <th>70</th>\n",
       "      <td>80116921</td>\n",
       "      <td>TV Show</td>\n",
       "      <td>We Bare Bears</td>\n",
       "      <td>NaN</td>\n",
       "      <td>Eric Edelstein, Demetri Martin, Bobby Moynihan</td>\n",
       "      <td>United States</td>\n",
       "      <td>September 30, 2018</td>\n",
       "      <td>2017</td>\n",
       "      <td>TV-Y7</td>\n",
       "      <td>1 Season</td>\n",
       "      <td>Kids' TV, TV Comedies</td>\n",
       "      <td>Grizzly, Panda and Ice Bear are three adopted ...</td>\n",
       "    </tr>\n",
       "    <tr>\n",
       "      <th>149</th>\n",
       "      <td>80115346</td>\n",
       "      <td>TV Show</td>\n",
       "      <td>Hilda</td>\n",
       "      <td>NaN</td>\n",
       "      <td>Bella Ramsey, Ameerah Falzon-Ojo, Oliver Nelso...</td>\n",
       "      <td>United Kingdom, Canada, United States</td>\n",
       "      <td>September 21, 2018</td>\n",
       "      <td>2018</td>\n",
       "      <td>TV-Y7</td>\n",
       "      <td>1 Season</td>\n",
       "      <td>Kids' TV</td>\n",
       "      <td>Fearless, free-spirited Hilda finds new friend...</td>\n",
       "    </tr>\n",
       "    <tr>\n",
       "      <th>...</th>\n",
       "      <td>...</td>\n",
       "      <td>...</td>\n",
       "      <td>...</td>\n",
       "      <td>...</td>\n",
       "      <td>...</td>\n",
       "      <td>...</td>\n",
       "      <td>...</td>\n",
       "      <td>...</td>\n",
       "      <td>...</td>\n",
       "      <td>...</td>\n",
       "      <td>...</td>\n",
       "      <td>...</td>\n",
       "    </tr>\n",
       "    <tr>\n",
       "      <th>6150</th>\n",
       "      <td>80057968</td>\n",
       "      <td>TV Show</td>\n",
       "      <td>Glitter Force</td>\n",
       "      <td>NaN</td>\n",
       "      <td>Laura Bailey, Kate Higgins, Alex Cazares, Coll...</td>\n",
       "      <td>Japan</td>\n",
       "      <td>August 26, 2016</td>\n",
       "      <td>2016</td>\n",
       "      <td>TV-Y7</td>\n",
       "      <td>2 Seasons</td>\n",
       "      <td>Anime Series, Kids' TV</td>\n",
       "      <td>Five preteen girls learn they're a legendary s...</td>\n",
       "    </tr>\n",
       "    <tr>\n",
       "      <th>6158</th>\n",
       "      <td>80164216</td>\n",
       "      <td>TV Show</td>\n",
       "      <td>Miraculous: Tales of Ladybug &amp; Cat Noir</td>\n",
       "      <td>Thomas Astruc</td>\n",
       "      <td>Cristina Vee, Bryce Papenbrook, Keith Silverst...</td>\n",
       "      <td>France, South Korea, Japan</td>\n",
       "      <td>August 2, 2019</td>\n",
       "      <td>2018</td>\n",
       "      <td>TV-Y7</td>\n",
       "      <td>4 Seasons</td>\n",
       "      <td>Kids' TV, TV Action &amp; Adventure</td>\n",
       "      <td>When Paris is in peril, Marinette becomes Lady...</td>\n",
       "    </tr>\n",
       "    <tr>\n",
       "      <th>6189</th>\n",
       "      <td>80115432</td>\n",
       "      <td>TV Show</td>\n",
       "      <td>Spirit: Riding Free</td>\n",
       "      <td>NaN</td>\n",
       "      <td>Amber Frank, Sydney Park, Bailey Gambertoglio,...</td>\n",
       "      <td>United States</td>\n",
       "      <td>April 5, 2019</td>\n",
       "      <td>2019</td>\n",
       "      <td>TV-Y7</td>\n",
       "      <td>8 Seasons</td>\n",
       "      <td>Kids' TV</td>\n",
       "      <td>In a small Western town, spunky ex-city girl L...</td>\n",
       "    </tr>\n",
       "    <tr>\n",
       "      <th>6201</th>\n",
       "      <td>80050007</td>\n",
       "      <td>TV Show</td>\n",
       "      <td>The Mr. Peabody and Sherman Show</td>\n",
       "      <td>NaN</td>\n",
       "      <td>Chris Parnell, Max Charles, Dieter Jansen, Da'...</td>\n",
       "      <td>United States</td>\n",
       "      <td>April 21, 2017</td>\n",
       "      <td>2017</td>\n",
       "      <td>TV-Y7</td>\n",
       "      <td>4 Seasons</td>\n",
       "      <td>Kids' TV, TV Comedies</td>\n",
       "      <td>Mr. Peabody and Sherman host a zany late-night...</td>\n",
       "    </tr>\n",
       "    <tr>\n",
       "      <th>6227</th>\n",
       "      <td>80005756</td>\n",
       "      <td>TV Show</td>\n",
       "      <td>The Adventures of Figaro Pho</td>\n",
       "      <td>NaN</td>\n",
       "      <td>Luke Jurevicius, Craig Behenna, Charlotte Haml...</td>\n",
       "      <td>Australia</td>\n",
       "      <td>NaN</td>\n",
       "      <td>2015</td>\n",
       "      <td>TV-Y7</td>\n",
       "      <td>2 Seasons</td>\n",
       "      <td>Kids' TV, TV Comedies</td>\n",
       "      <td>Imagine your worst fears, then multiply them: ...</td>\n",
       "    </tr>\n",
       "  </tbody>\n",
       "</table>\n",
       "<p>100 rows × 12 columns</p>\n",
       "</div>"
      ],
      "text/plain": [
       "       show_id  ...                                        description\n",
       "3     80058654  ...  When a prison ship crash unleashes hundreds of...\n",
       "34    80221550  ...  Happy-go-lucky chicken Archibald may not remem...\n",
       "64    80239337  ...  Ben can transform into ten types of aliens. He...\n",
       "70    80116921  ...  Grizzly, Panda and Ice Bear are three adopted ...\n",
       "149   80115346  ...  Fearless, free-spirited Hilda finds new friend...\n",
       "...        ...  ...                                                ...\n",
       "6150  80057968  ...  Five preteen girls learn they're a legendary s...\n",
       "6158  80164216  ...  When Paris is in peril, Marinette becomes Lady...\n",
       "6189  80115432  ...  In a small Western town, spunky ex-city girl L...\n",
       "6201  80050007  ...  Mr. Peabody and Sherman host a zany late-night...\n",
       "6227  80005756  ...  Imagine your worst fears, then multiply them: ...\n",
       "\n",
       "[100 rows x 12 columns]"
      ]
     },
     "execution_count": 37,
     "metadata": {
      "tags": []
     },
     "output_type": "execute_result"
    }
   ],
   "source": [
    " TV_Y7 = TV_show[TV_show['rating'] == \"TV-Y7\"]\n",
    " TV_Y7"
   ]
  },
  {
   "cell_type": "code",
   "execution_count": 38,
   "metadata": {
    "colab": {
     "base_uri": "https://localhost:8080/",
     "height": 34
    },
    "executionInfo": {
     "elapsed": 2861,
     "status": "ok",
     "timestamp": 1601324349060,
     "user": {
      "displayName": "K. Christian Tolliver",
      "photoUrl": "https://lh3.googleusercontent.com/a-/AOh14Gjq42kM3jz6naaL9V3opEC8k6sZOisoPTKOjeqOBw=s64",
      "userId": "05068722563028068409"
     },
     "user_tz": 360
    },
    "id": "WxSKD_9J3SUw",
    "outputId": "9e16d59c-e8e4-479b-befd-f5639a21c8fd"
   },
   "outputs": [
    {
     "name": "stdout",
     "output_type": "stream",
     "text": [
      "100\n"
     ]
    }
   ],
   "source": [
    "print(len(TV_Y7))"
   ]
  },
  {
   "cell_type": "markdown",
   "metadata": {
    "id": "-esock-41eGo"
   },
   "source": [
    "### Question 3\n",
    "Further filter your dataset so it only contains TV Shows released between the years 2000 and 2009 inclusive. How many of *those* shows were rated `TV-Y7`?"
   ]
  },
  {
   "cell_type": "code",
   "execution_count": 39,
   "metadata": {
    "colab": {
     "base_uri": "https://localhost:8080/",
     "height": 241
    },
    "executionInfo": {
     "elapsed": 2815,
     "status": "ok",
     "timestamp": 1601324349062,
     "user": {
      "displayName": "K. Christian Tolliver",
      "photoUrl": "https://lh3.googleusercontent.com/a-/AOh14Gjq42kM3jz6naaL9V3opEC8k6sZOisoPTKOjeqOBw=s64",
      "userId": "05068722563028068409"
     },
     "user_tz": 360
    },
    "id": "cBNHqCgz0WDp",
    "outputId": "92c6e59b-d7fb-4ed9-f247-fb64533311b0"
   },
   "outputs": [
    {
     "data": {
      "text/html": [
       "<div>\n",
       "<style scoped>\n",
       "    .dataframe tbody tr th:only-of-type {\n",
       "        vertical-align: middle;\n",
       "    }\n",
       "\n",
       "    .dataframe tbody tr th {\n",
       "        vertical-align: top;\n",
       "    }\n",
       "\n",
       "    .dataframe thead th {\n",
       "        text-align: right;\n",
       "    }\n",
       "</style>\n",
       "<table border=\"1\" class=\"dataframe\">\n",
       "  <thead>\n",
       "    <tr style=\"text-align: right;\">\n",
       "      <th></th>\n",
       "      <th>show_id</th>\n",
       "      <th>type</th>\n",
       "      <th>title</th>\n",
       "      <th>director</th>\n",
       "      <th>cast</th>\n",
       "      <th>country</th>\n",
       "      <th>date_added</th>\n",
       "      <th>release_year</th>\n",
       "      <th>rating</th>\n",
       "      <th>duration</th>\n",
       "      <th>listed_in</th>\n",
       "      <th>description</th>\n",
       "    </tr>\n",
       "  </thead>\n",
       "  <tbody>\n",
       "    <tr>\n",
       "      <th>4528</th>\n",
       "      <td>70213120</td>\n",
       "      <td>TV Show</td>\n",
       "      <td>Beyblade: Metal Fusion</td>\n",
       "      <td>NaN</td>\n",
       "      <td>Aki Kanada, Satoshi Hino, Emiri Kato, Kei Shin...</td>\n",
       "      <td>Japan</td>\n",
       "      <td>December 15, 2017</td>\n",
       "      <td>2009</td>\n",
       "      <td>TV-Y7</td>\n",
       "      <td>1 Season</td>\n",
       "      <td>Anime Series, Kids' TV</td>\n",
       "      <td>In this anime adventure series for kids, the f...</td>\n",
       "    </tr>\n",
       "    <tr>\n",
       "      <th>5836</th>\n",
       "      <td>70177034</td>\n",
       "      <td>TV Show</td>\n",
       "      <td>Yu-Gi-Oh!</td>\n",
       "      <td>NaN</td>\n",
       "      <td>Dan Green, Eric Stuart, Amy Birnbaum, Darren D...</td>\n",
       "      <td>Japan</td>\n",
       "      <td>March 31, 2018</td>\n",
       "      <td>2005</td>\n",
       "      <td>TV-Y7</td>\n",
       "      <td>5 Seasons</td>\n",
       "      <td>Anime Series, Kids' TV</td>\n",
       "      <td>The lives of young Yugi Moto and his friends J...</td>\n",
       "    </tr>\n",
       "    <tr>\n",
       "      <th>6098</th>\n",
       "      <td>70308794</td>\n",
       "      <td>TV Show</td>\n",
       "      <td>What's New Scooby-Doo?</td>\n",
       "      <td>NaN</td>\n",
       "      <td>Frank Welker, Casey Kasem, Mindy Cohn, Grey De...</td>\n",
       "      <td>United States</td>\n",
       "      <td>December 15, 2019</td>\n",
       "      <td>2005</td>\n",
       "      <td>TV-Y7</td>\n",
       "      <td>3 Seasons</td>\n",
       "      <td>Kids' TV, TV Comedies</td>\n",
       "      <td>Scooby-Doo and the gang enter the 21st century...</td>\n",
       "    </tr>\n",
       "    <tr>\n",
       "      <th>6117</th>\n",
       "      <td>60036794</td>\n",
       "      <td>TV Show</td>\n",
       "      <td>Sonic X</td>\n",
       "      <td>NaN</td>\n",
       "      <td>Suzanne Goldish, Dan Green, Jason Anthony Grif...</td>\n",
       "      <td>Japan</td>\n",
       "      <td>December 1, 2019</td>\n",
       "      <td>2004</td>\n",
       "      <td>TV-Y7</td>\n",
       "      <td>4 Seasons</td>\n",
       "      <td>Anime Series, Kids' TV</td>\n",
       "      <td>While battling the evil Dr. Eggman, Sonic gets...</td>\n",
       "    </tr>\n",
       "  </tbody>\n",
       "</table>\n",
       "</div>"
      ],
      "text/plain": [
       "       show_id  ...                                        description\n",
       "4528  70213120  ...  In this anime adventure series for kids, the f...\n",
       "5836  70177034  ...  The lives of young Yugi Moto and his friends J...\n",
       "6098  70308794  ...  Scooby-Doo and the gang enter the 21st century...\n",
       "6117  60036794  ...  While battling the evil Dr. Eggman, Sonic gets...\n",
       "\n",
       "[4 rows x 12 columns]"
      ]
     },
     "execution_count": 39,
     "metadata": {
      "tags": []
     },
     "output_type": "execute_result"
    }
   ],
   "source": [
    "years = ['2000', '2001', '2002', '2003', '2004', '2005', '2006', '2007', '2008', '2009']\n",
    "\n",
    "TV_2000_2009_Y7 = TV_Y7[TV_Y7['release_year'].isin(years)]\n",
    "TV_2000_2009_Y7"
   ]
  },
  {
   "cell_type": "code",
   "execution_count": 40,
   "metadata": {
    "colab": {
     "base_uri": "https://localhost:8080/",
     "height": 34
    },
    "executionInfo": {
     "elapsed": 2773,
     "status": "ok",
     "timestamp": 1601324349065,
     "user": {
      "displayName": "K. Christian Tolliver",
      "photoUrl": "https://lh3.googleusercontent.com/a-/AOh14Gjq42kM3jz6naaL9V3opEC8k6sZOisoPTKOjeqOBw=s64",
      "userId": "05068722563028068409"
     },
     "user_tz": 360
    },
    "id": "TlLuI6VU7L_L",
    "outputId": "ca4d33f9-8369-44c7-ef06-4148ab180421"
   },
   "outputs": [
    {
     "name": "stdout",
     "output_type": "stream",
     "text": [
      "4\n"
     ]
    }
   ],
   "source": [
    "print(len(TV_2000_2009_Y7))"
   ]
  },
  {
   "cell_type": "markdown",
   "metadata": {
    "id": "s9pLfYQx2W8s"
   },
   "source": [
    "### Question 4\n",
    "Use seaborn to create a count plot showing the relative counts of the ratings of TV-Shows released between the years 2000 and 2009, inclusive.\n",
    "\n",
    "What is the top-most number on the y-axis scale?"
   ]
  },
  {
   "cell_type": "code",
   "execution_count": 86,
   "metadata": {
    "executionInfo": {
     "elapsed": 624,
     "status": "ok",
     "timestamp": 1601336672251,
     "user": {
      "displayName": "K. Christian Tolliver",
      "photoUrl": "https://lh3.googleusercontent.com/a-/AOh14Gjq42kM3jz6naaL9V3opEC8k6sZOisoPTKOjeqOBw=s64",
      "userId": "05068722563028068409"
     },
     "user_tz": 360
    },
    "id": "BGn_j0w_GWAG"
   },
   "outputs": [],
   "source": [
    "TV_2000_2009 = TV_show[TV_show['release_year'].isin(years)]"
   ]
  },
  {
   "cell_type": "code",
   "execution_count": 87,
   "metadata": {
    "colab": {
     "base_uri": "https://localhost:8080/",
     "height": 465
    },
    "executionInfo": {
     "elapsed": 853,
     "status": "ok",
     "timestamp": 1601336674305,
     "user": {
      "displayName": "K. Christian Tolliver",
      "photoUrl": "https://lh3.googleusercontent.com/a-/AOh14Gjq42kM3jz6naaL9V3opEC8k6sZOisoPTKOjeqOBw=s64",
      "userId": "05068722563028068409"
     },
     "user_tz": 360
    },
    "id": "Akz49cnq1qUI",
    "outputId": "c9307451-7283-434f-d243-4f328f2a4576"
   },
   "outputs": [
    {
     "data": {
      "text/plain": [
       "[Text(0, 0, '2000'),\n",
       " Text(0, 0, '2001'),\n",
       " Text(0, 0, '2002'),\n",
       " Text(0, 0, '2003'),\n",
       " Text(0, 0, '2004'),\n",
       " Text(0, 0, '2005'),\n",
       " Text(0, 0, '2006'),\n",
       " Text(0, 0, '2007'),\n",
       " Text(0, 0, '2008'),\n",
       " Text(0, 0, '2009')]"
      ]
     },
     "execution_count": 87,
     "metadata": {
      "tags": []
     },
     "output_type": "execute_result"
    },
    {
     "data": {
      "image/png": "[encoded data removed]",
      "text/plain": [
       "<Figure size 432x288 with 1 Axes>"
      ]
     },
     "metadata": {
      "needs_background": "light",
      "tags": []
     },
     "output_type": "display_data"
    }
   ],
   "source": [
    "ax = sns.countplot(data = TV_2000_2009, x = \"release_year\")\n",
    "ax.set_xticklabels(ax.get_xticklabels(), rotation=45, ha=\"right\")"
   ]
  },
  {
   "cell_type": "code",
   "execution_count": 89,
   "metadata": {
    "colab": {
     "base_uri": "https://localhost:8080/",
     "height": 34
    },
    "executionInfo": {
     "elapsed": 580,
     "status": "ok",
     "timestamp": 1601336779796,
     "user": {
      "displayName": "K. Christian Tolliver",
      "photoUrl": "https://lh3.googleusercontent.com/a-/AOh14Gjq42kM3jz6naaL9V3opEC8k6sZOisoPTKOjeqOBw=s64",
      "userId": "05068722563028068409"
     },
     "user_tz": 360
    },
    "id": "P-JF05t_GzmW",
    "outputId": "d3f234de-7af1-4eec-a928-ce03d2ee784f"
   },
   "outputs": [
    {
     "name": "stdout",
     "output_type": "stream",
     "text": [
      "34\n"
     ]
    }
   ],
   "source": [
    "print(len(TV_show[TV_show['release_year'] == 2009]))"
   ]
  },
  {
   "cell_type": "markdown",
   "metadata": {
    "id": "cB4zmoJm3XDj"
   },
   "source": [
    "## Problem Group 2\n",
    "\n",
    "For the questions in this group, you'll work with the Cereal Dataset found at this url: [https://raw.githubusercontent.com/byui-cse/cse450-course/master/data/cereal.csv](https://raw.githubusercontent.com/byui-cse/cse450-course/master/data/cereal.csv)\n"
   ]
  },
  {
   "cell_type": "code",
   "execution_count": 42,
   "metadata": {
    "colab": {
     "base_uri": "https://localhost:8080/",
     "height": 204
    },
    "executionInfo": {
     "elapsed": 3309,
     "status": "ok",
     "timestamp": 1601324349737,
     "user": {
      "displayName": "K. Christian Tolliver",
      "photoUrl": "https://lh3.googleusercontent.com/a-/AOh14Gjq42kM3jz6naaL9V3opEC8k6sZOisoPTKOjeqOBw=s64",
      "userId": "05068722563028068409"
     },
     "user_tz": 360
    },
    "id": "xtuQagc77cZ0",
    "outputId": "7077d901-9336-4d77-8967-65bbcfd27a14"
   },
   "outputs": [
    {
     "data": {
      "text/html": [
       "<div>\n",
       "<style scoped>\n",
       "    .dataframe tbody tr th:only-of-type {\n",
       "        vertical-align: middle;\n",
       "    }\n",
       "\n",
       "    .dataframe tbody tr th {\n",
       "        vertical-align: top;\n",
       "    }\n",
       "\n",
       "    .dataframe thead th {\n",
       "        text-align: right;\n",
       "    }\n",
       "</style>\n",
       "<table border=\"1\" class=\"dataframe\">\n",
       "  <thead>\n",
       "    <tr style=\"text-align: right;\">\n",
       "      <th></th>\n",
       "      <th>name</th>\n",
       "      <th>mfr</th>\n",
       "      <th>type</th>\n",
       "      <th>calories</th>\n",
       "      <th>protein</th>\n",
       "      <th>fat</th>\n",
       "      <th>sodium</th>\n",
       "      <th>fiber</th>\n",
       "      <th>carbo</th>\n",
       "      <th>sugars</th>\n",
       "      <th>potass</th>\n",
       "      <th>vitamins</th>\n",
       "      <th>shelf</th>\n",
       "      <th>weight</th>\n",
       "      <th>cups</th>\n",
       "      <th>rating</th>\n",
       "    </tr>\n",
       "  </thead>\n",
       "  <tbody>\n",
       "    <tr>\n",
       "      <th>0</th>\n",
       "      <td>100% Bran</td>\n",
       "      <td>N</td>\n",
       "      <td>C</td>\n",
       "      <td>70</td>\n",
       "      <td>4</td>\n",
       "      <td>1</td>\n",
       "      <td>130</td>\n",
       "      <td>10.0</td>\n",
       "      <td>5.0</td>\n",
       "      <td>6</td>\n",
       "      <td>280</td>\n",
       "      <td>25</td>\n",
       "      <td>3</td>\n",
       "      <td>1.0</td>\n",
       "      <td>0.33</td>\n",
       "      <td>68.402973</td>\n",
       "    </tr>\n",
       "    <tr>\n",
       "      <th>1</th>\n",
       "      <td>100% Natural Bran</td>\n",
       "      <td>Q</td>\n",
       "      <td>C</td>\n",
       "      <td>120</td>\n",
       "      <td>3</td>\n",
       "      <td>5</td>\n",
       "      <td>15</td>\n",
       "      <td>2.0</td>\n",
       "      <td>8.0</td>\n",
       "      <td>8</td>\n",
       "      <td>135</td>\n",
       "      <td>0</td>\n",
       "      <td>3</td>\n",
       "      <td>1.0</td>\n",
       "      <td>1.00</td>\n",
       "      <td>33.983679</td>\n",
       "    </tr>\n",
       "    <tr>\n",
       "      <th>2</th>\n",
       "      <td>All-Bran</td>\n",
       "      <td>K</td>\n",
       "      <td>C</td>\n",
       "      <td>70</td>\n",
       "      <td>4</td>\n",
       "      <td>1</td>\n",
       "      <td>260</td>\n",
       "      <td>9.0</td>\n",
       "      <td>7.0</td>\n",
       "      <td>5</td>\n",
       "      <td>320</td>\n",
       "      <td>25</td>\n",
       "      <td>3</td>\n",
       "      <td>1.0</td>\n",
       "      <td>0.33</td>\n",
       "      <td>59.425505</td>\n",
       "    </tr>\n",
       "    <tr>\n",
       "      <th>3</th>\n",
       "      <td>All-Bran with Extra Fiber</td>\n",
       "      <td>K</td>\n",
       "      <td>C</td>\n",
       "      <td>50</td>\n",
       "      <td>4</td>\n",
       "      <td>0</td>\n",
       "      <td>140</td>\n",
       "      <td>14.0</td>\n",
       "      <td>8.0</td>\n",
       "      <td>0</td>\n",
       "      <td>330</td>\n",
       "      <td>25</td>\n",
       "      <td>3</td>\n",
       "      <td>1.0</td>\n",
       "      <td>0.50</td>\n",
       "      <td>93.704912</td>\n",
       "    </tr>\n",
       "    <tr>\n",
       "      <th>4</th>\n",
       "      <td>Almond Delight</td>\n",
       "      <td>R</td>\n",
       "      <td>C</td>\n",
       "      <td>110</td>\n",
       "      <td>2</td>\n",
       "      <td>2</td>\n",
       "      <td>200</td>\n",
       "      <td>1.0</td>\n",
       "      <td>14.0</td>\n",
       "      <td>8</td>\n",
       "      <td>-1</td>\n",
       "      <td>25</td>\n",
       "      <td>3</td>\n",
       "      <td>1.0</td>\n",
       "      <td>0.75</td>\n",
       "      <td>34.384843</td>\n",
       "    </tr>\n",
       "  </tbody>\n",
       "</table>\n",
       "</div>"
      ],
      "text/plain": [
       "                        name mfr type  calories  ...  shelf  weight  cups     rating\n",
       "0                  100% Bran   N    C        70  ...      3     1.0  0.33  68.402973\n",
       "1          100% Natural Bran   Q    C       120  ...      3     1.0  1.00  33.983679\n",
       "2                   All-Bran   K    C        70  ...      3     1.0  0.33  59.425505\n",
       "3  All-Bran with Extra Fiber   K    C        50  ...      3     1.0  0.50  93.704912\n",
       "4             Almond Delight   R    C       110  ...      3     1.0  0.75  34.384843\n",
       "\n",
       "[5 rows x 16 columns]"
      ]
     },
     "execution_count": 42,
     "metadata": {
      "tags": []
     },
     "output_type": "execute_result"
    }
   ],
   "source": [
    "cereal = pd.read_csv(\"https://raw.githubusercontent.com/byui-cse/cse450-course/master/data/cereal.csv\")\n",
    "cereal.head()"
   ]
  },
  {
   "cell_type": "markdown",
   "metadata": {
    "id": "BE_TdsHa3sMj"
   },
   "source": [
    "### Question 5\n",
    "After importing the dataset into a pandas data frame, determine the median amount of `protein` in cereal brands manufactured by Kelloggs. (`mfr` code \"K\")"
   ]
  },
  {
   "cell_type": "code",
   "execution_count": 43,
   "metadata": {
    "colab": {
     "base_uri": "https://localhost:8080/",
     "height": 204
    },
    "executionInfo": {
     "elapsed": 3269,
     "status": "ok",
     "timestamp": 1601324349740,
     "user": {
      "displayName": "K. Christian Tolliver",
      "photoUrl": "https://lh3.googleusercontent.com/a-/AOh14Gjq42kM3jz6naaL9V3opEC8k6sZOisoPTKOjeqOBw=s64",
      "userId": "05068722563028068409"
     },
     "user_tz": 360
    },
    "id": "fBXFGnfP2tfV",
    "outputId": "433c0bbf-6f82-45af-b2f8-bb9d178dce5e"
   },
   "outputs": [
    {
     "data": {
      "text/html": [
       "<div>\n",
       "<style scoped>\n",
       "    .dataframe tbody tr th:only-of-type {\n",
       "        vertical-align: middle;\n",
       "    }\n",
       "\n",
       "    .dataframe tbody tr th {\n",
       "        vertical-align: top;\n",
       "    }\n",
       "\n",
       "    .dataframe thead th {\n",
       "        text-align: right;\n",
       "    }\n",
       "</style>\n",
       "<table border=\"1\" class=\"dataframe\">\n",
       "  <thead>\n",
       "    <tr style=\"text-align: right;\">\n",
       "      <th></th>\n",
       "      <th>sugars</th>\n",
       "      <th>calories</th>\n",
       "      <th>fiber</th>\n",
       "      <th>fat</th>\n",
       "      <th>protein</th>\n",
       "      <th>sodium</th>\n",
       "      <th>carbo</th>\n",
       "      <th>potass</th>\n",
       "      <th>vitamins</th>\n",
       "      <th>cups</th>\n",
       "      <th>rating</th>\n",
       "    </tr>\n",
       "  </thead>\n",
       "  <tbody>\n",
       "    <tr>\n",
       "      <th>min</th>\n",
       "      <td>0.000000</td>\n",
       "      <td>50.000000</td>\n",
       "      <td>0.000000</td>\n",
       "      <td>0.000000</td>\n",
       "      <td>1.000000</td>\n",
       "      <td>0.000000</td>\n",
       "      <td>7.000000</td>\n",
       "      <td>20.000000</td>\n",
       "      <td>25.000000</td>\n",
       "      <td>0.330000</td>\n",
       "      <td>29.924285</td>\n",
       "    </tr>\n",
       "    <tr>\n",
       "      <th>max</th>\n",
       "      <td>15.000000</td>\n",
       "      <td>160.000000</td>\n",
       "      <td>14.000000</td>\n",
       "      <td>3.000000</td>\n",
       "      <td>6.000000</td>\n",
       "      <td>320.000000</td>\n",
       "      <td>22.000000</td>\n",
       "      <td>330.000000</td>\n",
       "      <td>100.000000</td>\n",
       "      <td>1.000000</td>\n",
       "      <td>93.704912</td>\n",
       "    </tr>\n",
       "    <tr>\n",
       "      <th>median</th>\n",
       "      <td>7.000000</td>\n",
       "      <td>110.000000</td>\n",
       "      <td>1.000000</td>\n",
       "      <td>0.000000</td>\n",
       "      <td>3.000000</td>\n",
       "      <td>170.000000</td>\n",
       "      <td>15.000000</td>\n",
       "      <td>60.000000</td>\n",
       "      <td>25.000000</td>\n",
       "      <td>0.750000</td>\n",
       "      <td>40.560159</td>\n",
       "    </tr>\n",
       "    <tr>\n",
       "      <th>mean</th>\n",
       "      <td>7.565217</td>\n",
       "      <td>108.695652</td>\n",
       "      <td>2.739130</td>\n",
       "      <td>0.608696</td>\n",
       "      <td>2.652174</td>\n",
       "      <td>174.782609</td>\n",
       "      <td>15.130435</td>\n",
       "      <td>103.043478</td>\n",
       "      <td>34.782609</td>\n",
       "      <td>0.796087</td>\n",
       "      <td>44.038462</td>\n",
       "    </tr>\n",
       "    <tr>\n",
       "      <th>std</th>\n",
       "      <td>4.500768</td>\n",
       "      <td>22.218818</td>\n",
       "      <td>3.193991</td>\n",
       "      <td>0.838783</td>\n",
       "      <td>1.070628</td>\n",
       "      <td>84.132988</td>\n",
       "      <td>4.465060</td>\n",
       "      <td>91.982448</td>\n",
       "      <td>25.826267</td>\n",
       "      <td>0.209778</td>\n",
       "      <td>14.457434</td>\n",
       "    </tr>\n",
       "  </tbody>\n",
       "</table>\n",
       "</div>"
      ],
      "text/plain": [
       "           sugars    calories      fiber  ...    vitamins      cups     rating\n",
       "min      0.000000   50.000000   0.000000  ...   25.000000  0.330000  29.924285\n",
       "max     15.000000  160.000000  14.000000  ...  100.000000  1.000000  93.704912\n",
       "median   7.000000  110.000000   1.000000  ...   25.000000  0.750000  40.560159\n",
       "mean     7.565217  108.695652   2.739130  ...   34.782609  0.796087  44.038462\n",
       "std      4.500768   22.218818   3.193991  ...   25.826267  0.209778  14.457434\n",
       "\n",
       "[5 rows x 11 columns]"
      ]
     },
     "execution_count": 43,
     "metadata": {
      "tags": []
     },
     "output_type": "execute_result"
    }
   ],
   "source": [
    "kelloggs = cereal[cereal['mfr'] == \"K\"]\n",
    "\n",
    "cerealStats = kelloggs.agg({'sugars': ['min', 'max', 'median', 'mean', 'std'], \n",
    "            'calories': ['min', 'max', 'median', 'mean', 'std'], \n",
    "            'fiber': ['min', 'max', 'median', 'mean', 'std'], \n",
    "            'fat': ['min', 'max', 'median', 'mean', 'std'], \n",
    "            'protein': ['min', 'max', 'median', 'mean', 'std'],\n",
    "            'sodium': ['min', 'max', 'median', 'mean', 'std'],\n",
    "            'carbo': ['min', 'max', 'median', 'mean', 'std'],\n",
    "            'potass': ['min', 'max', 'median', 'mean', 'std'],\n",
    "            'vitamins': ['min', 'max', 'median', 'mean', 'std'],\n",
    "            'cups': ['min', 'max', 'median', 'mean', 'std'],\n",
    "            'rating': ['min', 'max', 'median', 'mean', 'std']})\n",
    "\n",
    "cerealStats.head()"
   ]
  },
  {
   "cell_type": "markdown",
   "metadata": {
    "id": "_tAtBuST4vFq"
   },
   "source": [
    "### Question 6\n",
    "If you were to choose a brand of cereal made by Kelloggs at random (counting only the brands in this dataset), what is:\n",
    "\n",
    "    P( protein = 3 )\n",
    "\n",
    "For the brand you chose? Round your answer to two decimal places."
   ]
  },
  {
   "cell_type": "code",
   "execution_count": 44,
   "metadata": {
    "colab": {
     "base_uri": "https://localhost:8080/",
     "height": 119
    },
    "executionInfo": {
     "elapsed": 3226,
     "status": "ok",
     "timestamp": 1601324349741,
     "user": {
      "displayName": "K. Christian Tolliver",
      "photoUrl": "https://lh3.googleusercontent.com/a-/AOh14Gjq42kM3jz6naaL9V3opEC8k6sZOisoPTKOjeqOBw=s64",
      "userId": "05068722563028068409"
     },
     "user_tz": 360
    },
    "id": "PLIl-nwZ4PT9",
    "outputId": "5a94ceee-30d3-46c7-f5a9-bc03d9d96da3"
   },
   "outputs": [
    {
     "data": {
      "text/plain": [
       "1.070628    0.2\n",
       "2.652174    0.2\n",
       "3.000000    0.2\n",
       "6.000000    0.2\n",
       "1.000000    0.2\n",
       "Name: protein, dtype: float64"
      ]
     },
     "execution_count": 44,
     "metadata": {
      "tags": []
     },
     "output_type": "execute_result"
    }
   ],
   "source": [
    "cerealStats[\"protein\"].value_counts()/len(cerealStats)"
   ]
  },
  {
   "cell_type": "code",
   "execution_count": 45,
   "metadata": {
    "colab": {
     "base_uri": "https://localhost:8080/",
     "height": 119
    },
    "executionInfo": {
     "elapsed": 3175,
     "status": "ok",
     "timestamp": 1601324349743,
     "user": {
      "displayName": "K. Christian Tolliver",
      "photoUrl": "https://lh3.googleusercontent.com/a-/AOh14Gjq42kM3jz6naaL9V3opEC8k6sZOisoPTKOjeqOBw=s64",
      "userId": "05068722563028068409"
     },
     "user_tz": 360
    },
    "id": "BhsGa4QQEtyf",
    "outputId": "3b59d581-49c2-4743-df3f-723d4c335fcf"
   },
   "outputs": [
    {
     "data": {
      "text/plain": [
       "3    0.391304\n",
       "2    0.391304\n",
       "4    0.086957\n",
       "1    0.086957\n",
       "6    0.043478\n",
       "Name: protein, dtype: float64"
      ]
     },
     "execution_count": 45,
     "metadata": {
      "tags": []
     },
     "output_type": "execute_result"
    }
   ],
   "source": [
    "kelloggs[\"protein\"].value_counts()/len(kelloggs)"
   ]
  },
  {
   "cell_type": "markdown",
   "metadata": {
    "id": "W6nZYMTM6pbi"
   },
   "source": [
    "### Question 7\n",
    "If you were to choose a brand of cereal made by Kelloggs at random (counting only the brands in this dataset), what is:\n",
    "\n",
    "    P( calories > 100 | protein = 3)\n",
    "\n",
    "for the brand you chose? Round your answer to two decimal places."
   ]
  },
  {
   "cell_type": "code",
   "execution_count": 69,
   "metadata": {
    "executionInfo": {
     "elapsed": 758,
     "status": "ok",
     "timestamp": 1601325987843,
     "user": {
      "displayName": "K. Christian Tolliver",
      "photoUrl": "https://lh3.googleusercontent.com/a-/AOh14Gjq42kM3jz6naaL9V3opEC8k6sZOisoPTKOjeqOBw=s64",
      "userId": "05068722563028068409"
     },
     "user_tz": 360
    },
    "id": "Gs7RMhugdpuD"
   },
   "outputs": [],
   "source": [
    "count = len(kelloggs[(kelloggs[\"protein\"] == 3)])"
   ]
  },
  {
   "cell_type": "code",
   "execution_count": 70,
   "metadata": {
    "colab": {
     "base_uri": "https://localhost:8080/",
     "height": 34
    },
    "executionInfo": {
     "elapsed": 614,
     "status": "ok",
     "timestamp": 1601325994002,
     "user": {
      "displayName": "K. Christian Tolliver",
      "photoUrl": "https://lh3.googleusercontent.com/a-/AOh14Gjq42kM3jz6naaL9V3opEC8k6sZOisoPTKOjeqOBw=s64",
      "userId": "05068722563028068409"
     },
     "user_tz": 360
    },
    "id": "IM_FIkQccH7f",
    "outputId": "d95ac937-6447-42b3-ddc2-0f33d34df271"
   },
   "outputs": [
    {
     "data": {
      "text/plain": [
       "0.6666666666666666"
      ]
     },
     "execution_count": 70,
     "metadata": {
      "tags": []
     },
     "output_type": "execute_result"
    }
   ],
   "source": [
    "len(kelloggs[(kelloggs[\"calories\"] > 100) & (kelloggs[\"protein\"] == 3)])/count"
   ]
  },
  {
   "cell_type": "markdown",
   "metadata": {
    "id": "W3del4PC9NJ-"
   },
   "source": [
    "### Question 8\n",
    "In order to comply with new government regulations, all cereals must now come with a \"Healthiness\" rating. This rating is calculated based on this formula:\n",
    "\n",
    "    healthiness = (protein + fiber) / sugar\n",
    "\n",
    "Create a new `healthiness` column populated with values based on the above formula.\n",
    "\n",
    "Then, determine the median healthiness value for only General Mills cereals (`mfr` = \"G\"), rounded to two decimal places."
   ]
  },
  {
   "cell_type": "code",
   "execution_count": 95,
   "metadata": {
    "colab": {
     "base_uri": "https://localhost:8080/",
     "height": 80
    },
    "executionInfo": {
     "elapsed": 1938,
     "status": "ok",
     "timestamp": 1601337543927,
     "user": {
      "displayName": "K. Christian Tolliver",
      "photoUrl": "https://lh3.googleusercontent.com/a-/AOh14Gjq42kM3jz6naaL9V3opEC8k6sZOisoPTKOjeqOBw=s64",
      "userId": "05068722563028068409"
     },
     "user_tz": 360
    },
    "id": "TqFx9yvV6LDX",
    "outputId": "c688d316-b771-49cf-9bc6-8366045d6dc0"
   },
   "outputs": [
    {
     "data": {
      "text/html": [
       "<div>\n",
       "<style scoped>\n",
       "    .dataframe tbody tr th:only-of-type {\n",
       "        vertical-align: middle;\n",
       "    }\n",
       "\n",
       "    .dataframe tbody tr th {\n",
       "        vertical-align: top;\n",
       "    }\n",
       "\n",
       "    .dataframe thead th {\n",
       "        text-align: right;\n",
       "    }\n",
       "</style>\n",
       "<table border=\"1\" class=\"dataframe\">\n",
       "  <thead>\n",
       "    <tr style=\"text-align: right;\">\n",
       "      <th></th>\n",
       "      <th>sugars</th>\n",
       "      <th>fiber</th>\n",
       "      <th>protein</th>\n",
       "    </tr>\n",
       "  </thead>\n",
       "  <tbody>\n",
       "    <tr>\n",
       "      <th>median</th>\n",
       "      <td>7.0</td>\n",
       "      <td>2.0</td>\n",
       "      <td>3.0</td>\n",
       "    </tr>\n",
       "  </tbody>\n",
       "</table>\n",
       "</div>"
      ],
      "text/plain": [
       "        sugars  fiber  protein\n",
       "median     7.0    2.0      3.0"
      ]
     },
     "execution_count": 95,
     "metadata": {
      "tags": []
     },
     "output_type": "execute_result"
    }
   ],
   "source": [
    "millStats = cereal.agg({'sugars': ['median'], 'fiber': ['median'], 'protein': ['median']})\n",
    "millStats.head()"
   ]
  },
  {
   "cell_type": "code",
   "execution_count": 96,
   "metadata": {
    "colab": {
     "base_uri": "https://localhost:8080/",
     "height": 51
    },
    "executionInfo": {
     "elapsed": 695,
     "status": "ok",
     "timestamp": 1601337546409,
     "user": {
      "displayName": "K. Christian Tolliver",
      "photoUrl": "https://lh3.googleusercontent.com/a-/AOh14Gjq42kM3jz6naaL9V3opEC8k6sZOisoPTKOjeqOBw=s64",
      "userId": "05068722563028068409"
     },
     "user_tz": 360
    },
    "id": "_UZq1GCUJ82s",
    "outputId": "61cc7602-b4a5-4215-caa8-023e970869dd"
   },
   "outputs": [
    {
     "data": {
      "text/plain": [
       "median    0.714286\n",
       "dtype: float64"
      ]
     },
     "execution_count": 96,
     "metadata": {
      "tags": []
     },
     "output_type": "execute_result"
    }
   ],
   "source": [
    "#healthiness = (protein + fiber) / sugar\n",
    "\n",
    "healthiness = (millStats['protein'] + millStats['fiber']) / millStats['sugars'] \n",
    "healthiness"
   ]
  },
  {
   "cell_type": "markdown",
   "metadata": {
    "id": "AcuUNAxC-g7c"
   },
   "source": [
    "## Problem Group 3\n",
    "\n",
    "For the questions in this group, you'll work with the Titanic Dataset found at this url: [https://raw.githubusercontent.com/byui-cse/cse450-course/master/data/titanic.csv](https://raw.githubusercontent.com/byui-cse/cse450-course/master/data/titanic.csv)"
   ]
  },
  {
   "cell_type": "code",
   "execution_count": 76,
   "metadata": {
    "colab": {
     "base_uri": "https://localhost:8080/",
     "height": 204
    },
    "executionInfo": {
     "elapsed": 1532,
     "status": "ok",
     "timestamp": 1601335732557,
     "user": {
      "displayName": "K. Christian Tolliver",
      "photoUrl": "https://lh3.googleusercontent.com/a-/AOh14Gjq42kM3jz6naaL9V3opEC8k6sZOisoPTKOjeqOBw=s64",
      "userId": "05068722563028068409"
     },
     "user_tz": 360
    },
    "id": "breHjr_47dik",
    "outputId": "dacb6598-7467-4276-e2be-722f73c4e84f"
   },
   "outputs": [
    {
     "data": {
      "text/html": [
       "<div>\n",
       "<style scoped>\n",
       "    .dataframe tbody tr th:only-of-type {\n",
       "        vertical-align: middle;\n",
       "    }\n",
       "\n",
       "    .dataframe tbody tr th {\n",
       "        vertical-align: top;\n",
       "    }\n",
       "\n",
       "    .dataframe thead th {\n",
       "        text-align: right;\n",
       "    }\n",
       "</style>\n",
       "<table border=\"1\" class=\"dataframe\">\n",
       "  <thead>\n",
       "    <tr style=\"text-align: right;\">\n",
       "      <th></th>\n",
       "      <th>PassengerId</th>\n",
       "      <th>Survived</th>\n",
       "      <th>Pclass</th>\n",
       "      <th>Name</th>\n",
       "      <th>Sex</th>\n",
       "      <th>Age</th>\n",
       "      <th>SibSp</th>\n",
       "      <th>Parch</th>\n",
       "      <th>Ticket</th>\n",
       "      <th>Fare</th>\n",
       "      <th>Cabin</th>\n",
       "      <th>Embarked</th>\n",
       "    </tr>\n",
       "  </thead>\n",
       "  <tbody>\n",
       "    <tr>\n",
       "      <th>0</th>\n",
       "      <td>1</td>\n",
       "      <td>0</td>\n",
       "      <td>3</td>\n",
       "      <td>Braund, Mr. Owen Harris</td>\n",
       "      <td>male</td>\n",
       "      <td>22.0</td>\n",
       "      <td>1</td>\n",
       "      <td>0</td>\n",
       "      <td>A/5 21171</td>\n",
       "      <td>7.2500</td>\n",
       "      <td>NaN</td>\n",
       "      <td>S</td>\n",
       "    </tr>\n",
       "    <tr>\n",
       "      <th>1</th>\n",
       "      <td>2</td>\n",
       "      <td>1</td>\n",
       "      <td>1</td>\n",
       "      <td>Cumings, Mrs. John Bradley (Florence Briggs Th...</td>\n",
       "      <td>female</td>\n",
       "      <td>38.0</td>\n",
       "      <td>1</td>\n",
       "      <td>0</td>\n",
       "      <td>PC 17599</td>\n",
       "      <td>71.2833</td>\n",
       "      <td>C85</td>\n",
       "      <td>C</td>\n",
       "    </tr>\n",
       "    <tr>\n",
       "      <th>2</th>\n",
       "      <td>3</td>\n",
       "      <td>1</td>\n",
       "      <td>3</td>\n",
       "      <td>Heikkinen, Miss. Laina</td>\n",
       "      <td>female</td>\n",
       "      <td>26.0</td>\n",
       "      <td>0</td>\n",
       "      <td>0</td>\n",
       "      <td>STON/O2. 3101282</td>\n",
       "      <td>7.9250</td>\n",
       "      <td>NaN</td>\n",
       "      <td>S</td>\n",
       "    </tr>\n",
       "    <tr>\n",
       "      <th>3</th>\n",
       "      <td>4</td>\n",
       "      <td>1</td>\n",
       "      <td>1</td>\n",
       "      <td>Futrelle, Mrs. Jacques Heath (Lily May Peel)</td>\n",
       "      <td>female</td>\n",
       "      <td>35.0</td>\n",
       "      <td>1</td>\n",
       "      <td>0</td>\n",
       "      <td>113803</td>\n",
       "      <td>53.1000</td>\n",
       "      <td>C123</td>\n",
       "      <td>S</td>\n",
       "    </tr>\n",
       "    <tr>\n",
       "      <th>4</th>\n",
       "      <td>5</td>\n",
       "      <td>0</td>\n",
       "      <td>3</td>\n",
       "      <td>Allen, Mr. William Henry</td>\n",
       "      <td>male</td>\n",
       "      <td>35.0</td>\n",
       "      <td>0</td>\n",
       "      <td>0</td>\n",
       "      <td>373450</td>\n",
       "      <td>8.0500</td>\n",
       "      <td>NaN</td>\n",
       "      <td>S</td>\n",
       "    </tr>\n",
       "  </tbody>\n",
       "</table>\n",
       "</div>"
      ],
      "text/plain": [
       "   PassengerId  Survived  Pclass  ...     Fare Cabin  Embarked\n",
       "0            1         0       3  ...   7.2500   NaN         S\n",
       "1            2         1       1  ...  71.2833   C85         C\n",
       "2            3         1       3  ...   7.9250   NaN         S\n",
       "3            4         1       1  ...  53.1000  C123         S\n",
       "4            5         0       3  ...   8.0500   NaN         S\n",
       "\n",
       "[5 rows x 12 columns]"
      ]
     },
     "execution_count": 76,
     "metadata": {
      "tags": []
     },
     "output_type": "execute_result"
    }
   ],
   "source": [
    "titanic = pd.read_csv(\"https://raw.githubusercontent.com/byui-cse/cse450-course/master/data/titanic.csv\")\n",
    "titanic.head()"
   ]
  },
  {
   "cell_type": "markdown",
   "metadata": {
    "id": "POOuuXfYAJQK"
   },
   "source": [
    "### Question 9\n",
    "\n",
    "After loading the dataset into a pandas DataFrame, create a new column called `NameGroup` that contains the first letter of the passenger's surname in lower case.\n",
    "\n",
    "Note that in the dataset, passenger's names are provided in the `Name` column and are listed as:\n",
    "\n",
    "    Surname, Given names\n",
    "\n",
    "For example, if a passenger's `Name` is `Braund, Mr. Owen Harris`, the `NameGroup` column should contain the value `b`.\n",
    "\n",
    "Then count how many passengers have a `NameGroup` value of `k`."
   ]
  },
  {
   "cell_type": "code",
   "execution_count": 91,
   "metadata": {
    "colab": {
     "base_uri": "https://localhost:8080/",
     "height": 221
    },
    "executionInfo": {
     "elapsed": 647,
     "status": "ok",
     "timestamp": 1601337081849,
     "user": {
      "displayName": "K. Christian Tolliver",
      "photoUrl": "https://lh3.googleusercontent.com/a-/AOh14Gjq42kM3jz6naaL9V3opEC8k6sZOisoPTKOjeqOBw=s64",
      "userId": "05068722563028068409"
     },
     "user_tz": 360
    },
    "id": "T80gU65-ASFa",
    "outputId": "9e48f7d0-009d-4e37-bc25-8758e737e4b7"
   },
   "outputs": [
    {
     "data": {
      "text/plain": [
       "0      B\n",
       "1      C\n",
       "2      H\n",
       "3      F\n",
       "4      A\n",
       "      ..\n",
       "886    M\n",
       "887    G\n",
       "888    J\n",
       "889    B\n",
       "890    D\n",
       "Name: NameGroup, Length: 891, dtype: object"
      ]
     },
     "execution_count": 91,
     "metadata": {
      "tags": []
     },
     "output_type": "execute_result"
    }
   ],
   "source": [
    "titanic['NameGroup'] = titanic['Name'].str.split(',').str.get(0)\n",
    "titanic['NameGroup'] = titanic['NameGroup'].str.get(0)\n",
    "titanic['NameGroup'] "
   ]
  },
  {
   "cell_type": "code",
   "execution_count": 94,
   "metadata": {
    "colab": {
     "base_uri": "https://localhost:8080/",
     "height": 34
    },
    "executionInfo": {
     "elapsed": 609,
     "status": "ok",
     "timestamp": 1601337324472,
     "user": {
      "displayName": "K. Christian Tolliver",
      "photoUrl": "https://lh3.googleusercontent.com/a-/AOh14Gjq42kM3jz6naaL9V3opEC8k6sZOisoPTKOjeqOBw=s64",
      "userId": "05068722563028068409"
     },
     "user_tz": 360
    },
    "id": "18Ao7dErIgB4",
    "outputId": "abc876cd-303e-4d2b-d3c7-542a99409f99"
   },
   "outputs": [
    {
     "data": {
      "text/plain": [
       "28"
      ]
     },
     "execution_count": 94,
     "metadata": {
      "tags": []
     },
     "output_type": "execute_result"
    }
   ],
   "source": [
    "len(titanic[titanic['NameGroup'] == \"K\"])"
   ]
  },
  {
   "cell_type": "markdown",
   "metadata": {
    "id": "6iZtc5-zBZQG"
   },
   "source": [
    "### Question 10\n",
    "Using seaborn, create a boxplot showing the distribution of passenger `Age` grouped by the port they `Embarked` from.\n",
    "\n",
    "How many outliers were there in the group embarked from Queenstown (Embarked value `Q`)?"
   ]
  },
  {
   "cell_type": "code",
   "execution_count": 85,
   "metadata": {
    "colab": {
     "base_uri": "https://localhost:8080/",
     "height": 296
    },
    "executionInfo": {
     "elapsed": 599,
     "status": "ok",
     "timestamp": 1601336396782,
     "user": {
      "displayName": "K. Christian Tolliver",
      "photoUrl": "https://lh3.googleusercontent.com/a-/AOh14Gjq42kM3jz6naaL9V3opEC8k6sZOisoPTKOjeqOBw=s64",
      "userId": "05068722563028068409"
     },
     "user_tz": 360
    },
    "id": "9D6TzGQjAZIw",
    "outputId": "72187055-abb4-4253-9499-f323fb676d36"
   },
   "outputs": [
    {
     "data": {
      "text/plain": [
       "<matplotlib.axes._subplots.AxesSubplot at 0x7ff28a509860>"
      ]
     },
     "execution_count": 85,
     "metadata": {
      "tags": []
     },
     "output_type": "execute_result"
    },
    {
     "data": {
      "image/png": "[encoded data removed]",
      "text/plain": [
       "<Figure size 432x288 with 1 Axes>"
      ]
     },
     "metadata": {
      "needs_background": "light",
      "tags": []
     },
     "output_type": "display_data"
    }
   ],
   "source": [
    "sns.boxplot(x = \"Embarked\", y = \"Age\", data = titanic)"
   ]
  },
  {
   "cell_type": "markdown",
   "metadata": {},
   "source": [
    "[Assessment Gist](https://colab.research.google.com/gist/kctolli/077090a1bc673065b37087d792c2c3c6/assessment-1.ipynb)\n",
    "\n",
    "### Answers\n",
    "\n",
    "* Netflix Movies Dataset\n",
    "  1. int64\n",
    "  2. 100\n",
    "  3. 4\n",
    "  4. ?\n",
    "* Cereal Dataset \n",
    "  5. 3 \n",
    "  6. .39\n",
    "  7. .67\n",
    "  8. ?\n",
    "* Titanic Dataset\n",
    "  9. 28\n",
    "  10. 2"
   ]
  },
  {
   "cell_type": "markdown",
   "metadata": {
    "id": "0lylG1LUDaHB"
   },
   "source": [
    "## 🌟 Bonus Question 🌟\n",
    "\n",
    "*Note that you have to enter the answer to this question in the Module 01 Bonus Assessment.*\n",
    "\n",
    "Use a Bayesian Classifier from sklearn to predict the probability that a passenger would surive given they were a female embarking from Queenstown.\n",
    "\n",
    "Encode any non-numeric values as necessary, and be sure to drop any rows with missing data for features that would affect the classification.\n",
    "\n",
    "Enter your answer as a decimal value rounded to 2 decimal places."
   ]
  },
  {
   "cell_type": "code",
   "execution_count": null,
   "metadata": {
    "executionInfo": {
     "elapsed": 2899,
     "status": "aborted",
     "timestamp": 1601324349767,
     "user": {
      "displayName": "K. Christian Tolliver",
      "photoUrl": "https://lh3.googleusercontent.com/a-/AOh14Gjq42kM3jz6naaL9V3opEC8k6sZOisoPTKOjeqOBw=s64",
      "userId": "05068722563028068409"
     },
     "user_tz": 360
    },
    "id": "t7xEDOStBwbJ"
   },
   "outputs": [],
   "source": []
  }
 ],
 "metadata": {
  "colab": {
   "collapsed_sections": [],
   "name": "Assessment 1.ipynb",
   "provenance": [
    {
     "file_id": "https://github.com/byui-cse/cse450-course/blob/master/notebooks/module01-assessment.ipynb",
     "timestamp": 1601185788467
    }
   ],
   "toc_visible": true
  },
  "kernelspec": {
   "display_name": "Python 3",
   "language": "python",
   "name": "python3"
  },
  "language_info": {
   "codemirror_mode": {
    "name": "ipython",
    "version": 3
   },
   "file_extension": ".py",
   "mimetype": "text/x-python",
   "name": "python",
   "nbconvert_exporter": "python",
   "pygments_lexer": "ipython3",
   "version": "3.8.4"
  }
 },
 "nbformat": 4,
 "nbformat_minor": 1
}
