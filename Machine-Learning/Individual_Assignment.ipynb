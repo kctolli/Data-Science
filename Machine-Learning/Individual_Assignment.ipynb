{
  "nbformat": 4,
  "nbformat_minor": 0,
  "metadata": {
    "colab": {
      "name": "Individual Assignment",
      "provenance": [],
      "collapsed_sections": []
    },
    "kernelspec": {
      "name": "python3",
      "display_name": "Python 3"
    }
  },
  "cells": [
    {
      "cell_type": "markdown",
      "metadata": {
        "id": "L7K2jyDlwe3E"
      },
      "source": [
        "# Final Individual Assignment\r\n",
        "\r\n",
        "As a final individual assignment, you will have the chance to demonstrate your individual mastery of the core tasks we have been doing throughout our team case studies.\r\n",
        "\r\n",
        "For this assignment, you must:\r\n",
        "\r\n",
        "Choose a dataset\r\n",
        "Apply the tools/algorithms we'v studied this semester to discover something of value from it\r\n",
        "Discuss how your work meets the project outcomes\r\n",
        "The project outcomes for this project are:\r\n",
        "\r\n",
        "Demonstrates understanding of the business needs / context of the data\r\n",
        "Demonstrates ability to handle non-trivial dataset (e.g., data set size, complexity of features, missing data, redundant attributes, obtaining the data, etc.)\r\n",
        "Demonstrates proper algorithm selection and application\r\n",
        "Discovered something interesting / of value (e.g., about the data, about the algorithms and their limitations in this context, something actionable for a stakeholder, etc.)\r\n",
        "Demonstrates understanding of limitations of the solution and potential ethical issues\r\n",
        " \r\n",
        "## Part 1 - Choose a Dataset\r\n",
        "\r\n",
        "You are welcome to choose any dataset we have seen this semester, or a separate dataset that you have found on your own. Keep in mind that your dataset must be complex enough to demonstrate your mastery of the project outcomes above. If you choose one that we've used before, please keep in mind that you'll need to do additional work that specifically demonstrates your individual mastery of the topics.\r\n",
        "\r\n",
        "If you are looking for a new dataset, a good place to find some interesting ones is: https://www.kaggle.com/. Another place that has a lot of datasets (but not quite as fun ones as Kaggle) is: the UCI data repository.\r\n",
        "\r\n",
        "Be careful that you don't spend too much time looking for the best possible dataset, because you may not have enough time to actually work with it.\r\n",
        "\r\n",
        "## Part 2 - Apply the Tools/Algorithms of the course\r\n",
        "\r\n",
        "Once you have selected a dataset, you need to apply the tools and algorithms we've discussed this semester to discover something interesting or of value. The specific tools, libraries, or algorithms you use are up to you. One of the outcomes is to show that you know how to apply an appropriate tool to solve a given problem.\r\n",
        "\r\n",
        "You are welcome to leverage ideas or code from your team case study work this semester, but keep in mind that you need to demonstrate your individual mastery of the topics.\r\n",
        "\r\n",
        "## Part 3 - Discuss Mastery of Project Outcomes\r\n",
        "\r\n",
        "When you have finished your work, please submit a document that contains the following:\r\n",
        "\r\n",
        "* A link to your Colab notebook.\r\n",
        "* A short description of what you did and your results (a few paragraphs)\r\n",
        "* A list of the project outcomes with a few sentences for each one explaining how your individual work on this project demonstrates your mastery of that outcome.\r\n",
        "* Self-assessment and justification of the grading category best describes your project.\r\n",
        "\r\n",
        "The self-assessment categories are:\r\n",
        "\r\n",
        "1. All requirements were met and additional work was done to demonstrate creativity and excellence by going above and beyond.\r\n",
        "2. All requirements were met.\r\n",
        "3. Some attempt was made, but was slightly deficient in approach or understanding.\r\n",
        "4. Some attempt was made, but was significantly deficient in approach or understanding.\r\n",
        "5. Some attempt was made, but was extremely deficient in approach or understanding.\r\n",
        "6. No attempt was made."
      ]
    },
    {
      "cell_type": "markdown",
      "metadata": {
        "id": "QlXtmoOlwTLI"
      },
      "source": [
        "### Part 1 \r\n",
        "\r\n",
        "#### Choose a Dataset"
      ]
    },
    {
      "cell_type": "code",
      "metadata": {
        "id": "LKdVxm9l0DQ5"
      },
      "source": [
        "import pandas as pd\r\n",
        "import numpy as np\r\n",
        "import datetime\r\n",
        "import seaborn as sns\r\n",
        "import altair as alt"
      ],
      "execution_count": null,
      "outputs": []
    },
    {
      "cell_type": "code",
      "metadata": {
        "id": "b_0jzCEdOS7m"
      },
      "source": [
        "import tensorflow as tf\r\n",
        "from tensorflow import keras\r\n",
        "from tensorflow.keras import layers\r\n",
        "from keras.layers import Dense\r\n",
        "from tensorflow.keras.layers.experimental import preprocessing\r\n",
        "from sklearn.model_selection import train_test_split\r\n",
        "import matplotlib.pyplot as plt"
      ],
      "execution_count": null,
      "outputs": []
    },
    {
      "cell_type": "code",
      "metadata": {
        "colab": {
          "base_uri": "https://localhost:8080/",
          "height": 204
        },
        "id": "MJeZRcNGwkeT",
        "outputId": "6aa9751a-4a4d-4e48-f906-59176408a43e"
      },
      "source": [
        "hits = pd.read_csv(\"https://raw.githubusercontent.com/byui-cse/cse450-course/master/data/spotify/data.csv\",keep_default_na=False)\r\n",
        "hits = hits.dropna()\r\n",
        "hits = hits.drop('artists', axis = 1)\r\n",
        "hits = hits.drop('id', axis = 1)\r\n",
        "hits = hits.drop('name', axis = 1)\r\n",
        "hits = hits.drop('release_date', axis = 1)\r\n",
        "hits.head()"
      ],
      "execution_count": null,
      "outputs": [
        {
          "output_type": "execute_result",
          "data": {
            "text/html": [
              "<div>\n",
              "<style scoped>\n",
              "    .dataframe tbody tr th:only-of-type {\n",
              "        vertical-align: middle;\n",
              "    }\n",
              "\n",
              "    .dataframe tbody tr th {\n",
              "        vertical-align: top;\n",
              "    }\n",
              "\n",
              "    .dataframe thead th {\n",
              "        text-align: right;\n",
              "    }\n",
              "</style>\n",
              "<table border=\"1\" class=\"dataframe\">\n",
              "  <thead>\n",
              "    <tr style=\"text-align: right;\">\n",
              "      <th></th>\n",
              "      <th>acousticness</th>\n",
              "      <th>danceability</th>\n",
              "      <th>duration_ms</th>\n",
              "      <th>energy</th>\n",
              "      <th>explicit</th>\n",
              "      <th>instrumentalness</th>\n",
              "      <th>key</th>\n",
              "      <th>liveness</th>\n",
              "      <th>loudness</th>\n",
              "      <th>mode</th>\n",
              "      <th>popularity</th>\n",
              "      <th>speechiness</th>\n",
              "      <th>tempo</th>\n",
              "      <th>valence</th>\n",
              "      <th>year</th>\n",
              "    </tr>\n",
              "  </thead>\n",
              "  <tbody>\n",
              "    <tr>\n",
              "      <th>0</th>\n",
              "      <td>0.995</td>\n",
              "      <td>0.708</td>\n",
              "      <td>158648</td>\n",
              "      <td>0.1950</td>\n",
              "      <td>0</td>\n",
              "      <td>0.563</td>\n",
              "      <td>10</td>\n",
              "      <td>0.1510</td>\n",
              "      <td>-12.428</td>\n",
              "      <td>1</td>\n",
              "      <td>0</td>\n",
              "      <td>0.0506</td>\n",
              "      <td>118.469</td>\n",
              "      <td>0.7790</td>\n",
              "      <td>1928</td>\n",
              "    </tr>\n",
              "    <tr>\n",
              "      <th>1</th>\n",
              "      <td>0.994</td>\n",
              "      <td>0.379</td>\n",
              "      <td>282133</td>\n",
              "      <td>0.0135</td>\n",
              "      <td>0</td>\n",
              "      <td>0.901</td>\n",
              "      <td>8</td>\n",
              "      <td>0.0763</td>\n",
              "      <td>-28.454</td>\n",
              "      <td>1</td>\n",
              "      <td>0</td>\n",
              "      <td>0.0462</td>\n",
              "      <td>83.972</td>\n",
              "      <td>0.0767</td>\n",
              "      <td>1928</td>\n",
              "    </tr>\n",
              "    <tr>\n",
              "      <th>2</th>\n",
              "      <td>0.604</td>\n",
              "      <td>0.749</td>\n",
              "      <td>104300</td>\n",
              "      <td>0.2200</td>\n",
              "      <td>0</td>\n",
              "      <td>0.000</td>\n",
              "      <td>5</td>\n",
              "      <td>0.1190</td>\n",
              "      <td>-19.924</td>\n",
              "      <td>0</td>\n",
              "      <td>0</td>\n",
              "      <td>0.9290</td>\n",
              "      <td>107.177</td>\n",
              "      <td>0.8800</td>\n",
              "      <td>1928</td>\n",
              "    </tr>\n",
              "    <tr>\n",
              "      <th>3</th>\n",
              "      <td>0.995</td>\n",
              "      <td>0.781</td>\n",
              "      <td>180760</td>\n",
              "      <td>0.1300</td>\n",
              "      <td>0</td>\n",
              "      <td>0.887</td>\n",
              "      <td>1</td>\n",
              "      <td>0.1110</td>\n",
              "      <td>-14.734</td>\n",
              "      <td>0</td>\n",
              "      <td>0</td>\n",
              "      <td>0.0926</td>\n",
              "      <td>108.003</td>\n",
              "      <td>0.7200</td>\n",
              "      <td>1928</td>\n",
              "    </tr>\n",
              "    <tr>\n",
              "      <th>4</th>\n",
              "      <td>0.990</td>\n",
              "      <td>0.210</td>\n",
              "      <td>687733</td>\n",
              "      <td>0.2040</td>\n",
              "      <td>0</td>\n",
              "      <td>0.908</td>\n",
              "      <td>11</td>\n",
              "      <td>0.0980</td>\n",
              "      <td>-16.829</td>\n",
              "      <td>1</td>\n",
              "      <td>1</td>\n",
              "      <td>0.0424</td>\n",
              "      <td>62.149</td>\n",
              "      <td>0.0693</td>\n",
              "      <td>1928</td>\n",
              "    </tr>\n",
              "  </tbody>\n",
              "</table>\n",
              "</div>"
            ],
            "text/plain": [
              "   acousticness  danceability  duration_ms  ...    tempo  valence  year\n",
              "0         0.995         0.708       158648  ...  118.469   0.7790  1928\n",
              "1         0.994         0.379       282133  ...   83.972   0.0767  1928\n",
              "2         0.604         0.749       104300  ...  107.177   0.8800  1928\n",
              "3         0.995         0.781       180760  ...  108.003   0.7200  1928\n",
              "4         0.990         0.210       687733  ...   62.149   0.0693  1928\n",
              "\n",
              "[5 rows x 15 columns]"
            ]
          },
          "metadata": {
            "tags": []
          },
          "execution_count": 3
        }
      ]
    },
    {
      "cell_type": "code",
      "metadata": {
        "colab": {
          "base_uri": "https://localhost:8080/"
        },
        "id": "L3lCTUF00IOE",
        "outputId": "e82ca32f-68a8-4c2b-8d57-47b8b53efb34"
      },
      "source": [
        "hits.dtypes"
      ],
      "execution_count": null,
      "outputs": [
        {
          "output_type": "execute_result",
          "data": {
            "text/plain": [
              "acousticness        float64\n",
              "danceability        float64\n",
              "duration_ms           int64\n",
              "energy              float64\n",
              "explicit              int64\n",
              "instrumentalness    float64\n",
              "key                   int64\n",
              "liveness            float64\n",
              "loudness            float64\n",
              "mode                  int64\n",
              "popularity            int64\n",
              "speechiness         float64\n",
              "tempo               float64\n",
              "valence             float64\n",
              "year                  int64\n",
              "dtype: object"
            ]
          },
          "metadata": {
            "tags": []
          },
          "execution_count": 4
        }
      ]
    },
    {
      "cell_type": "code",
      "metadata": {
        "colab": {
          "base_uri": "https://localhost:8080/"
        },
        "id": "rY-IbAtOMSXk",
        "outputId": "3453cbc2-cd81-4959-f940-c798ba6d6ffb"
      },
      "source": [
        "hits['popularity'].describe()"
      ],
      "execution_count": null,
      "outputs": [
        {
          "output_type": "execute_result",
          "data": {
            "text/plain": [
              "count    169909.000000\n",
              "mean         31.556610\n",
              "std          21.582614\n",
              "min           0.000000\n",
              "25%          12.000000\n",
              "50%          33.000000\n",
              "75%          48.000000\n",
              "max         100.000000\n",
              "Name: popularity, dtype: float64"
            ]
          },
          "metadata": {
            "tags": []
          },
          "execution_count": 5
        }
      ]
    },
    {
      "cell_type": "markdown",
      "metadata": {
        "id": "MUDqFa9vzI53"
      },
      "source": [
        "### Part 2\r\n",
        "\r\n",
        "#### Apply the Tools/Algorithms of the course"
      ]
    },
    {
      "cell_type": "code",
      "metadata": {
        "id": "REC5PN7lM62w"
      },
      "source": [
        "train_dataset = hits.sample(frac=0.8, random_state=0)\r\n",
        "test_dataset = hits.drop(train_dataset.index)"
      ],
      "execution_count": null,
      "outputs": []
    },
    {
      "cell_type": "code",
      "metadata": {
        "id": "xGgefFB6NSXB"
      },
      "source": [
        "train_features = train_dataset.copy()\r\n",
        "test_features = test_dataset.copy()"
      ],
      "execution_count": null,
      "outputs": []
    },
    {
      "cell_type": "code",
      "metadata": {
        "id": "vD-coFSANglC"
      },
      "source": [
        "train_labels = train_features.pop('popularity')\r\n",
        "test_labels = test_features.pop('popularity')"
      ],
      "execution_count": null,
      "outputs": []
    },
    {
      "cell_type": "code",
      "metadata": {
        "id": "29clUYmBNkoF"
      },
      "source": [
        "normalizer = preprocessing.Normalization()\r\n",
        "normalizer.adapt(np.array(train_features))"
      ],
      "execution_count": null,
      "outputs": []
    },
    {
      "cell_type": "code",
      "metadata": {
        "colab": {
          "base_uri": "https://localhost:8080/"
        },
        "id": "AxZeOIACNnoq",
        "outputId": "f5b8dc9d-b7a2-4e2f-debc-60bf6ad1248a"
      },
      "source": [
        "print(normalizer.mean.numpy())"
      ],
      "execution_count": null,
      "outputs": [
        {
          "output_type": "stream",
          "text": [
            "[ 4.93046016e-01  5.37958026e-01  2.31361500e+05  4.88690704e-01\n",
            "  8.48764405e-02  1.62142396e-01  5.19090414e+00  2.06531569e-01\n",
            " -1.13711491e+01  7.08895206e-01  9.41436961e-02  1.16970245e+02\n",
            "  5.31847119e-01  1.97722571e+03]\n"
          ],
          "name": "stdout"
        }
      ]
    },
    {
      "cell_type": "code",
      "metadata": {
        "colab": {
          "base_uri": "https://localhost:8080/"
        },
        "id": "gsP0mj7RQq8u",
        "outputId": "59966808-c375-45f5-c57b-d11d251fd197"
      },
      "source": [
        "first = np.array(train_features[:1])\r\n",
        "\r\n",
        "with np.printoptions(precision=2, suppress=True):\r\n",
        "  print('First example:', first)\r\n",
        "  print()\r\n",
        "  print('Normalized:', normalizer(first).numpy())"
      ],
      "execution_count": null,
      "outputs": [
        {
          "output_type": "stream",
          "text": [
            "First example: [[     0.12      0.64 129440.        0.83      0.        0.        1.\n",
            "       0.28     -5.93      1.        0.05     81.78      0.83   1963.  ]]\n",
            "\n",
            "Normalized: [[-1.    0.59 -0.84  1.26 -0.3  -0.52 -1.19  0.44  0.96  0.64 -0.3  -1.14\n",
            "   1.14 -0.56]]\n"
          ],
          "name": "stdout"
        }
      ]
    },
    {
      "cell_type": "code",
      "metadata": {
        "id": "GtZ1_VOJYJTT"
      },
      "source": [
        "pop = np.array(train_features['year'])\r\n",
        "temp_normalizer = preprocessing.Normalization(input_shape=[1,])\r\n",
        "temp_normalizer.adapt(pop)"
      ],
      "execution_count": null,
      "outputs": []
    },
    {
      "cell_type": "code",
      "metadata": {
        "colab": {
          "base_uri": "https://localhost:8080/"
        },
        "id": "Dxt7eDxhX-te",
        "outputId": "8046760e-744f-43b5-c3f0-e6a9daedfb05"
      },
      "source": [
        "temp_model = tf.keras.Sequential([\r\n",
        "    temp_normalizer,\r\n",
        "    layers.Dense(10, activation='relu'),\r\n",
        "    layers.Dense(10, activation='relu'),\r\n",
        "    layers.Dense(units=1)\r\n",
        "])\r\n",
        "\r\n",
        "temp_model.predict(pop[:10])"
      ],
      "execution_count": null,
      "outputs": [
        {
          "output_type": "execute_result",
          "data": {
            "text/plain": [
              "array([[0.5611639 ],\n",
              "       [0.4009655 ],\n",
              "       [0.91618854],\n",
              "       [0.11816195],\n",
              "       [0.05082778],\n",
              "       [0.4033753 ],\n",
              "       [0.5491007 ],\n",
              "       [0.08779788],\n",
              "       [0.32016447],\n",
              "       [0.24558659]], dtype=float32)"
            ]
          },
          "metadata": {
            "tags": []
          },
          "execution_count": 13
        }
      ]
    },
    {
      "cell_type": "code",
      "metadata": {
        "colab": {
          "base_uri": "https://localhost:8080/"
        },
        "id": "CGoAWGS2Zgih",
        "outputId": "189dcf8c-3b83-40f4-bd1f-fdf71d37f57f"
      },
      "source": [
        "dnn_model = keras.Sequential([\r\n",
        "      normalizer,\r\n",
        "      layers.Dense(3, activation='elu'),\r\n",
        "      layers.Dense(3, activation='elu'),\r\n",
        "      layers.Dense(1)\r\n",
        "  ])\r\n",
        "dnn_model.compile(loss='mean_absolute_error',\r\n",
        "                  optimizer=tf.keras.optimizers.Adam(0.001))\r\n",
        "dnn_model.summary()"
      ],
      "execution_count": null,
      "outputs": [
        {
          "output_type": "stream",
          "text": [
            "Model: \"sequential_1\"\n",
            "_________________________________________________________________\n",
            "Layer (type)                 Output Shape              Param #   \n",
            "=================================================================\n",
            "normalization (Normalization (None, 14)                29        \n",
            "_________________________________________________________________\n",
            "dense_3 (Dense)              (None, 3)                 45        \n",
            "_________________________________________________________________\n",
            "dense_4 (Dense)              (None, 3)                 12        \n",
            "_________________________________________________________________\n",
            "dense_5 (Dense)              (None, 1)                 4         \n",
            "=================================================================\n",
            "Total params: 90\n",
            "Trainable params: 61\n",
            "Non-trainable params: 29\n",
            "_________________________________________________________________\n"
          ],
          "name": "stdout"
        }
      ]
    },
    {
      "cell_type": "code",
      "metadata": {
        "id": "vjMMRSkzZmgL",
        "colab": {
          "base_uri": "https://localhost:8080/",
          "height": 204
        },
        "outputId": "37346719-abb1-4465-d0f7-0234e6b1194d"
      },
      "source": [
        "history = dnn_model.fit(\r\n",
        "    train_features, train_labels,\r\n",
        "    validation_split=0.2,\r\n",
        "    verbose=0, epochs=30)\r\n",
        "\r\n",
        "hist = pd.DataFrame(history.history)\r\n",
        "hist['epoch'] = history.epoch\r\n",
        "hist.tail()"
      ],
      "execution_count": null,
      "outputs": [
        {
          "output_type": "execute_result",
          "data": {
            "text/html": [
              "<div>\n",
              "<style scoped>\n",
              "    .dataframe tbody tr th:only-of-type {\n",
              "        vertical-align: middle;\n",
              "    }\n",
              "\n",
              "    .dataframe tbody tr th {\n",
              "        vertical-align: top;\n",
              "    }\n",
              "\n",
              "    .dataframe thead th {\n",
              "        text-align: right;\n",
              "    }\n",
              "</style>\n",
              "<table border=\"1\" class=\"dataframe\">\n",
              "  <thead>\n",
              "    <tr style=\"text-align: right;\">\n",
              "      <th></th>\n",
              "      <th>loss</th>\n",
              "      <th>val_loss</th>\n",
              "      <th>epoch</th>\n",
              "    </tr>\n",
              "  </thead>\n",
              "  <tbody>\n",
              "    <tr>\n",
              "      <th>25</th>\n",
              "      <td>6.565021</td>\n",
              "      <td>6.601289</td>\n",
              "      <td>25</td>\n",
              "    </tr>\n",
              "    <tr>\n",
              "      <th>26</th>\n",
              "      <td>6.563701</td>\n",
              "      <td>6.594553</td>\n",
              "      <td>26</td>\n",
              "    </tr>\n",
              "    <tr>\n",
              "      <th>27</th>\n",
              "      <td>6.563156</td>\n",
              "      <td>6.593310</td>\n",
              "      <td>27</td>\n",
              "    </tr>\n",
              "    <tr>\n",
              "      <th>28</th>\n",
              "      <td>6.562243</td>\n",
              "      <td>6.599164</td>\n",
              "      <td>28</td>\n",
              "    </tr>\n",
              "    <tr>\n",
              "      <th>29</th>\n",
              "      <td>6.560547</td>\n",
              "      <td>6.601587</td>\n",
              "      <td>29</td>\n",
              "    </tr>\n",
              "  </tbody>\n",
              "</table>\n",
              "</div>"
            ],
            "text/plain": [
              "        loss  val_loss  epoch\n",
              "25  6.565021  6.601289     25\n",
              "26  6.563701  6.594553     26\n",
              "27  6.563156  6.593310     27\n",
              "28  6.562243  6.599164     28\n",
              "29  6.560547  6.601587     29"
            ]
          },
          "metadata": {
            "tags": []
          },
          "execution_count": 15
        }
      ]
    },
    {
      "cell_type": "code",
      "metadata": {
        "colab": {
          "base_uri": "https://localhost:8080/",
          "height": 283
        },
        "id": "KY4UtHG3ZnWV",
        "outputId": "ceea8f28-d2ff-4465-814e-0f658972e91d"
      },
      "source": [
        "test_predictions = dnn_model.predict(test_features).flatten()\r\n",
        "a = plt.axes(aspect='equal')\r\n",
        "plt.scatter(test_labels, test_predictions)\r\n",
        "plt.xlabel('True Values')\r\n",
        "plt.ylabel('Predictions')\r\n",
        "lims = [0, 50]\r\n",
        "plt.xlim(lims)\r\n",
        "plt.ylim(lims)\r\n",
        "_ = plt.plot(lims, lims)"
      ],
      "execution_count": null,
      "outputs": [
        {
          "output_type": "display_data",
          "data": {
            "image/png": "[encoded data removed]",
            "text/plain": [
              "<Figure size 432x288 with 1 Axes>"
            ]
          },
          "metadata": {
            "tags": [],
            "needs_background": "light"
          }
        }
      ]
    },
    {
      "cell_type": "code",
      "metadata": {
        "colab": {
          "base_uri": "https://localhost:8080/",
          "height": 279
        },
        "id": "jZ-0T2LMaZYd",
        "outputId": "796688eb-85db-4eb1-cce6-2845871cb58b"
      },
      "source": [
        "error = test_predictions - test_labels\r\n",
        "plt.hist(error, bins=25)\r\n",
        "plt.xlabel('Prediction Error')\r\n",
        "_ = plt.ylabel('Count')"
      ],
      "execution_count": null,
      "outputs": [
        {
          "output_type": "display_data",
          "data": {
            "image/png": "[encoded data removed]",
            "text/plain": [
              "<Figure size 432x288 with 1 Axes>"
            ]
          },
          "metadata": {
            "tags": [],
            "needs_background": "light"
          }
        }
      ]
    },
    {
      "cell_type": "code",
      "metadata": {
        "colab": {
          "base_uri": "https://localhost:8080/"
        },
        "id": "mKtc2p9Jl9k1",
        "outputId": "2355c964-9dbe-466c-a7d1-ac9b26fd0b67"
      },
      "source": [
        "dnn_model = keras.Sequential([\n",
        "      normalizer,\n",
        "      layers.Dense(150, activation='relu'),\n",
        "      layers.Dropout(.5),\n",
        "      layers.Dense(15, activation='relu'),\n",
        "      layers.Dropout(.2),\n",
        "      layers.Dense(10, activation='relu'),\n",
        "      layers.Dropout(.1),\n",
        "      layers.Dense(1, activation='linear')\n",
        "  ])\n",
        "dnn_model.compile(loss='mean_absolute_error',\n",
        "                  optimizer=tf.keras.optimizers.Adam(0.01))\n",
        "dnn_model.summary()\n"
      ],
      "execution_count": null,
      "outputs": [
        {
          "output_type": "stream",
          "text": [
            "Model: \"sequential_2\"\n",
            "_________________________________________________________________\n",
            "Layer (type)                 Output Shape              Param #   \n",
            "=================================================================\n",
            "normalization (Normalization (None, 14)                29        \n",
            "_________________________________________________________________\n",
            "dense_6 (Dense)              (None, 150)               2250      \n",
            "_________________________________________________________________\n",
            "dropout (Dropout)            (None, 150)               0         \n",
            "_________________________________________________________________\n",
            "dense_7 (Dense)              (None, 15)                2265      \n",
            "_________________________________________________________________\n",
            "dropout_1 (Dropout)          (None, 15)                0         \n",
            "_________________________________________________________________\n",
            "dense_8 (Dense)              (None, 10)                160       \n",
            "_________________________________________________________________\n",
            "dropout_2 (Dropout)          (None, 10)                0         \n",
            "_________________________________________________________________\n",
            "dense_9 (Dense)              (None, 1)                 11        \n",
            "=================================================================\n",
            "Total params: 4,715\n",
            "Trainable params: 4,686\n",
            "Non-trainable params: 29\n",
            "_________________________________________________________________\n"
          ],
          "name": "stdout"
        }
      ]
    },
    {
      "cell_type": "code",
      "metadata": {
        "id": "ma8H3rCkWLv5",
        "colab": {
          "base_uri": "https://localhost:8080/",
          "height": 204
        },
        "outputId": "2cce4b98-e56d-41d9-997c-a10a86984e0c"
      },
      "source": [
        "history = dnn_model.fit(\r\n",
        "    train_features, train_labels,\r\n",
        "    validation_split=0.2,\r\n",
        "    verbose=0, epochs=30)\r\n",
        "\r\n",
        "hist = pd.DataFrame(history.history)\r\n",
        "hist['epoch'] = history.epoch\r\n",
        "hist.tail()"
      ],
      "execution_count": null,
      "outputs": [
        {
          "output_type": "execute_result",
          "data": {
            "text/html": [
              "<div>\n",
              "<style scoped>\n",
              "    .dataframe tbody tr th:only-of-type {\n",
              "        vertical-align: middle;\n",
              "    }\n",
              "\n",
              "    .dataframe tbody tr th {\n",
              "        vertical-align: top;\n",
              "    }\n",
              "\n",
              "    .dataframe thead th {\n",
              "        text-align: right;\n",
              "    }\n",
              "</style>\n",
              "<table border=\"1\" class=\"dataframe\">\n",
              "  <thead>\n",
              "    <tr style=\"text-align: right;\">\n",
              "      <th></th>\n",
              "      <th>loss</th>\n",
              "      <th>val_loss</th>\n",
              "      <th>epoch</th>\n",
              "    </tr>\n",
              "  </thead>\n",
              "  <tbody>\n",
              "    <tr>\n",
              "      <th>25</th>\n",
              "      <td>7.689349</td>\n",
              "      <td>6.912765</td>\n",
              "      <td>25</td>\n",
              "    </tr>\n",
              "    <tr>\n",
              "      <th>26</th>\n",
              "      <td>7.675001</td>\n",
              "      <td>7.322006</td>\n",
              "      <td>26</td>\n",
              "    </tr>\n",
              "    <tr>\n",
              "      <th>27</th>\n",
              "      <td>7.658055</td>\n",
              "      <td>6.964977</td>\n",
              "      <td>27</td>\n",
              "    </tr>\n",
              "    <tr>\n",
              "      <th>28</th>\n",
              "      <td>7.677517</td>\n",
              "      <td>6.852284</td>\n",
              "      <td>28</td>\n",
              "    </tr>\n",
              "    <tr>\n",
              "      <th>29</th>\n",
              "      <td>7.691419</td>\n",
              "      <td>6.728859</td>\n",
              "      <td>29</td>\n",
              "    </tr>\n",
              "  </tbody>\n",
              "</table>\n",
              "</div>"
            ],
            "text/plain": [
              "        loss  val_loss  epoch\n",
              "25  7.689349  6.912765     25\n",
              "26  7.675001  7.322006     26\n",
              "27  7.658055  6.964977     27\n",
              "28  7.677517  6.852284     28\n",
              "29  7.691419  6.728859     29"
            ]
          },
          "metadata": {
            "tags": []
          },
          "execution_count": 19
        }
      ]
    },
    {
      "cell_type": "code",
      "metadata": {
        "colab": {
          "base_uri": "https://localhost:8080/"
        },
        "id": "jkgRT2CIW2Xk",
        "outputId": "0dc3cada-4033-40fa-fe06-ed5e0345ec48"
      },
      "source": [
        "test_predictions = dnn_model.predict(test_features).flatten()\r\n",
        "a = plt.axes(aspect='equal')\r\n",
        "plt.scatter(test_labels, test_predictions)\r\n",
        "plt.xlabel('True Values')\r\n",
        "plt.ylabel('Predictions')\r\n",
        "lims = [0, 200]\r\n",
        "plt.xlim(lims)\r\n",
        "plt.ylim(lims)\r\n",
        "_ = plt.plot(lims, lims)"
      ],
      "execution_count": null,
      "outputs": [
        {
          "output_type": "display_data",
          "data": {
            "image/png": "[encoded data removed]",
            "text/plain": [
              "<Figure size 432x288 with 1 Axes>"
            ]
          },
          "metadata": {
            "tags": [],
            "needs_background": "light"
          }
        }
      ]
    },
    {
      "cell_type": "code",
      "metadata": {
        "colab": {
          "base_uri": "https://localhost:8080/"
        },
        "id": "dh_wLT0EW60C",
        "outputId": "69cbec06-c046-4985-d8f5-be5c220e7090"
      },
      "source": [
        "error = test_predictions - test_labels\r\n",
        "plt.hist(error, bins=25)\r\n",
        "plt.xlabel('Prediction Error')\r\n",
        "_ = plt.ylabel('Count')"
      ],
      "execution_count": null,
      "outputs": [
        {
          "output_type": "display_data",
          "data": {
            "image/png": "[encoded data removed]",
            "text/plain": [
              "<Figure size 432x288 with 1 Axes>"
            ]
          },
          "metadata": {
            "tags": [],
            "needs_background": "light"
          }
        }
      ]
    },
    {
      "cell_type": "markdown",
      "metadata": {
        "id": "UsJ4JTOyzOCK"
      },
      "source": [
        "### Part 3\r\n",
        "\r\n",
        "#### Discuss Mastery of Project Outcomes\r\n",
        "\r\n",
        "Colab Notebook: https://colab.research.google.com/gist/kctolli/2326cbc187e9609af52d2fcbe473d1ae/individual-assignment.ipynb"
      ]
    },
    {
      "cell_type": "markdown",
      "metadata": {
        "id": "xJJW3lBvzQR2"
      },
      "source": [
        "I created a neural network to predict the popularity of spotify songs. I was able to see that each epoch will increase the prediction values making it more accurate. The prediction error decreases after each epoch. I feel that my neural network is quite accurate.   "
      ]
    },
    {
      "cell_type": "markdown",
      "metadata": {
        "id": "ISxiGmYx1SUL"
      },
      "source": [
        "* Demonstrates understanding of the business needs / context of the data\r\n",
        "  *   I was able to create an predictive algorithm for popularity \r\n",
        "  *   This can help spotify performs know how to make it\r\n",
        "* Demonstrates ability to handle non-trivial dataset (e.g., data set size, complexity of features, missing data, redundant attributes, obtaining the data, etc.)\r\n",
        "  *   I used two functions drop and dropna to manipulate data\r\n",
        "* Demonstrates proper algorithm selection and application\r\n",
        "  *   I chose a neural network due to fact it can be trained with data to increase the predictions\r\n",
        "* Discovered something interesting / of value (e.g., about the data, about the algorithms and their limitations in this context, something actionable for a stakeholder, etc.)\r\n",
        "  *   I learned that the algorithm doesn't like string values they prefer numeric values (ints and floats)\r\n",
        "* Demonstrates understanding of limitations of the solution and potential ethical issues\r\n",
        "  *   This solution has a limitation of only with numeric values\r\n",
        "\r\n",
        "\r\n",
        "\r\n"
      ]
    },
    {
      "cell_type": "markdown",
      "metadata": {
        "id": "jpykdZZ31V5g"
      },
      "source": [
        "I feel that with my level of mastery I deserve a 3. I feel that I was able to create a working neural network. I just am missing some understanding of the material. I feel like I was able to learn a lot from this project. I learned a lot about neural networks from this project. "
      ]
    }
  ]
}